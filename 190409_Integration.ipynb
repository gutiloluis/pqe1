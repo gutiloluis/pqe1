{
 "cells": [
  {
   "cell_type": "code",
   "execution_count": 1,
   "metadata": {},
   "outputs": [
    {
     "name": "stdout",
     "output_type": "stream",
     "text": [
      "Populating the interactive namespace from numpy and matplotlib\n"
     ]
    }
   ],
   "source": [
    "%pylab inline\n",
    "import scipy.stats as sps\n",
    "import scipy.integrate as spi\n",
    "import seaborn as sns\n",
    "import csv\n",
    "\n",
    "import dask\n",
    "from dask.distributed import Client\n",
    "\n",
    "import time\n",
    "\n",
    "from dask_jobqueue import SLURMCluster"
   ]
  },
  {
   "cell_type": "code",
   "execution_count": 2,
   "metadata": {},
   "outputs": [
    {
     "data": {
      "text/html": [
       "<table style=\"border: 2px solid white;\">\n",
       "<tr>\n",
       "<td style=\"vertical-align: top; border: 0px solid white\">\n",
       "<h3>Client</h3>\n",
       "<ul>\n",
       "  <li><b>Scheduler: </b>tcp://127.0.0.1:45651\n",
       "  <li><b>Dashboard: </b><a href='http://127.0.0.1:8787/status' target='_blank'>http://127.0.0.1:8787/status</a>\n",
       "</ul>\n",
       "</td>\n",
       "<td style=\"vertical-align: top; border: 0px solid white\">\n",
       "<h3>Cluster</h3>\n",
       "<ul>\n",
       "  <li><b>Workers: </b>1</li>\n",
       "  <li><b>Cores: </b>1</li>\n",
       "  <li><b>Memory: </b>4.14 GB</li>\n",
       "</ul>\n",
       "</td>\n",
       "</tr>\n",
       "</table>"
      ],
      "text/plain": [
       "<Client: scheduler='tcp://127.0.0.1:45651' processes=1 cores=1>"
      ]
     },
     "execution_count": 2,
     "metadata": {},
     "output_type": "execute_result"
    }
   ],
   "source": [
    "run_local = True\n",
    "n_workers_init = 6\n",
    "\n",
    "if run_local:\n",
    "    client = Client()\n",
    "    client.cluster.scale(n_workers_init)\n",
    "    time.sleep(0.5) # allow client time to respond to scaling before display\n",
    "else:\n",
    "    # note the specifed walltime, don't use too much or too little, 01:30:00 is a good baseline, \n",
    "    # you just need enough time to finish 'gathering' to props_all before the jobs die\n",
    "    # you can always spin up more jobs later\n",
    "    # you will launch many jobs, so you don't need multiple processes, a lot of ram or multiple threads\n",
    "#     cluster = SLURMCluster(queue=\"short\",walltime='01:30:00',job_cpu=1,job_mem='6G',threads=1,processes=1,memory='6GB')\n",
    "    \n",
    "    #SHORT RUNS\n",
    "#     cluster = SLURMCluster(queue=\"short\",walltime='01:30:00',job_cpu=1,job_mem='6G',cores=1,processes=1,memory='6G')\n",
    "    cluster = SLURMCluster(queue=\"short\",walltime='08:00:00',job_cpu=1,job_mem='6G',cores=1,processes=1,memory='6G')\n",
    "    cluster.start_workers(n_workers_init)\n",
    "    client = Client(cluster)\n",
    "\n",
    "client"
   ]
  },
  {
   "cell_type": "code",
   "execution_count": 35,
   "metadata": {},
   "outputs": [],
   "source": [
    "def plot_heatmap(MTs, STs, MN, mTa, MTs_step):\n",
    "    \n",
    "    #Indices of E(T_s) values for max fitness as a function of std\n",
    "    max_MTs_vs_std = np.argmax(MN, axis=0)\n",
    "    #Indices of std(T_s) values for max fitness as a function of E(T_s)\n",
    "    max_STs_vs_mean = np.argmax(MN, axis=1)\n",
    "\n",
    "    plt.figure(figsize=(8,5))\n",
    "    y_conv = np.arange(len(max_MTs_vs_std))\n",
    "    plt.plot(max_MTs_vs_std+0.5, y_conv+0.5, '--')\n",
    "    x_conv = np.arange(len(max_STs_vs_mean))\n",
    "    plt.plot(x_conv+0.5, max_STs_vs_mean+0.5, '--')\n",
    "    # ax = sns.heatmap(MN.T/n0, yticklabels=STs, xticklabels=MTs)\n",
    "    ax = sns.heatmap(MN.T, yticklabels=False, xticklabels=False)\n",
    "    plt.vlines(np.where(abs(MTs-mTa) <= MTs_step/2)[0][0]+0.5, 0,len(y_conv), color='r', linestyles='--')\n",
    "    ax.invert_yaxis()\n",
    "    plt.ylabel('Standard deviation')\n",
    "    plt.xlabel('Mean lag time')\n",
    "    plt.title('$t_a=$'+str(mTa))\n",
    "    \n",
    "def plot_max_lines(MTs, STs, MN, mTa):\n",
    "\n",
    "    #Indices of E(T_s) values for max fitness as a function of std\n",
    "    max_MTs_vs_std = np.argmax(MN, axis=0)\n",
    "    #Indices of std(T_s) values for max fitness as a function of E(T_s)\n",
    "    max_STs_vs_mean = np.argmax(MN, axis=1)\n",
    "    \n",
    "    fig, axs = plt.subplots(1,2, figsize=(7,3.5), tight_layout=True)\n",
    "\n",
    "    axs[0].plot(STs, MTs[max_MTs_vs_std], 'o-')\n",
    "    axs[0].set_xlabel('$\\sigma(T_s)$')\n",
    "    axs[0].set_ylabel('$E(T_s)$ for max. fitness')\n",
    "\n",
    "    axs[1].plot(MTs, [STs[e] for e in max_STs_vs_mean], 'o-')\n",
    "    axs[1].set_xlabel('$E(T_s)$')\n",
    "    axs[1].set_ylabel('$\\sigma(T_s)$ for max. fitness')\n",
    "    \n",
    "def save_experiment(exp_key, res, kwargs, kwargs_s):\n",
    "\n",
    "    # Save NN\n",
    "    np.save('./iexp_'+exp_key, res)\n",
    "    # Save metadata (parameters)\n",
    "    file = open('./iexp_'+exp_key+'_meta.csv', \"w\")\n",
    "    w = csv.writer(file)\n",
    "    for key, val in kwargs.items():\n",
    "        w.writerow([key, val])\n",
    "    for key, val in kwargs_s.items():\n",
    "        w.writerow([key, val])\n",
    "    file.close()\n",
    "    \n",
    "def load_metadata(exp_key, prefix = './', print_meta = True):\n",
    "    '''\n",
    "    Loads the metadata, which contains all the parameters used for the simulation\n",
    "    BE CAREFUL: The parameters are set as global variables!!\n",
    "    If print_meta == True, it prints the values of the imported parameters\n",
    "    '''\n",
    "    \n",
    "    infile =open(prefix+'iexp_'+exp_key+'_meta.csv', mode='r')\n",
    "    reader = csv.reader(infile)\n",
    "    meta = list(reader)\n",
    "    infile.close()\n",
    "    \n",
    "    global mTa, sTa, tg, MTs_start, MTs_stop, MTs_step, STs_start, STs_stop, STs_step\n",
    "    \n",
    "    mTa = float(meta[0][1])\n",
    "    sTa = float(meta[1][1])\n",
    "    tg = float(meta[2][1])\n",
    "    MTs_start = float(meta[3][1])\n",
    "    MTs_stop = float(meta[4][1])\n",
    "    MTs_step = float(meta[5][1])\n",
    "    STs_start = float(meta[6][1])\n",
    "    STs_stop = float(meta[7][1])\n",
    "    STs_step = float(meta[8][1])\n",
    "    if print_meta:\n",
    "        print(meta)\n",
    "    \n",
    "    return meta\n",
    "\n",
    "def integrand_1(s, Ts):\n",
    "    return np.exp(-s)*Ts.pdf(s)\n",
    "\n",
    "def integral_1(ta, t, Ts):\n",
    "    return spi.quad(integrand_1, ta, t, args=(Ts))[0]\n",
    "\n",
    "def mN_det_Ta(mTa, t, Ts):\n",
    "    # OJO: Only when t > ta\n",
    "    return np.exp(t)*integral_1(mTa, t, Ts) + 1 - Ts.cdf(t)\n",
    "\n",
    "def integrand_2(ta, t, Ta, Ts):\n",
    "    return Ta.pdf(ta)*integral_1(ta, t, Ts)\n",
    "\n",
    "def integral_2(t, Ta, Ts):\n",
    "    return spi.quad(integrand_2, 0, t, args=(t, Ta, Ts))[0]\n",
    "\n",
    "def mN_stoch_Ta(t, Ta, Ts):\n",
    "    return np.exp(t)*integral_2(t, Ta, Ts)+1-Ts.cdf(t)\n",
    "\n",
    "def run_deterministic_one(mTs, sTs, mTa, sTa=0, tg=8):\n",
    "    Ts = sps.norm(mTs, sTs)\n",
    "    return mN_det_Ta(mTa, tg, Ts)\n",
    "\n",
    "def run_deterministic_single_sTs(sTs, MTs, mTa, sTa, tg=8):\n",
    "    N = np.zeros(len(MTs))\n",
    "    for i in range(len(MTs)):\n",
    "        mTs = MTs[i]\n",
    "        N[i] = run_deterministic_one(mTs, sTs, mTa, sTa=0, tg=8)\n",
    "    return N\n",
    "\n",
    "def run_deterministic(MTs, STs, mTa, sTa=0, tg=8):\n",
    "    \n",
    "    NN = np.zeros((len(MTs), len(STs)))\n",
    "    \n",
    "    for i in range(len(MTs)):\n",
    "        mTs = MTs[i]\n",
    "        for j in range(len(STs)):\n",
    "            sTs = STs[j]\n",
    "            \n",
    "            NN[i,j] = run_deterministic_one(mTs, sTs, mTa, sTa=0, tg=tg)\n",
    "#             Ts = sps.norm(mTs, sTs)\n",
    "#             NN[i,j] = mN_det_Ta(mTa, tg, Ts)\n",
    "    return NN\n",
    "\n",
    "def run_stochastic_one(mTs, sTs, mTa, sTa, tg):\n",
    "    Ta = sps.norm(mTs, sTs)\n",
    "    Ts = sps.norm(mTa, sTa)\n",
    "    return mN_stoch_Ta(tg, Ta, Ts)\n",
    "\n",
    "def run_stochastic_single_sTs(sTs, MTs, mTa, sTa, tg):\n",
    "    N = np.zeros(len(MTs))\n",
    "    for i in range(len(MTs)):\n",
    "        mTs = MTs[i]\n",
    "        N[i] = run_stochastic_one(mTs, sTs, mTa, sTa, tg=8)\n",
    "    return N\n",
    "\n",
    "def run_stochastic(MTs, STs, Ta, tg):\n",
    "    \n",
    "    NN = np.zeros((len(MTs), len(STs)))\n",
    "    \n",
    "    for i in range(len(MTs)):\n",
    "        mTs = MTs[i]\n",
    "        for j in range(len(STs)):\n",
    "            sTs = STs[j]\n",
    "            Ts = sps.norm(mTs, sTs)\n",
    "            NN[i,j] = mN_stoch_Ta(tg, Ta, Ts)\n",
    "    return NN"
   ]
  },
  {
   "cell_type": "code",
   "execution_count": 6,
   "metadata": {},
   "outputs": [
    {
     "data": {
      "text/plain": [
       "[<matplotlib.lines.Line2D at 0x7f9c5856bc88>]"
      ]
     },
     "execution_count": 6,
     "metadata": {},
     "output_type": "execute_result"
    },
    {
     "data": {
      "image/png": "[encoded data removed]",
      "text/plain": [
       "<Figure size 432x288 with 1 Axes>"
      ]
     },
     "metadata": {
      "needs_background": "light"
     },
     "output_type": "display_data"
    }
   ],
   "source": [
    "mTa = 3\n",
    "tg = 8\n",
    "sTa =0\n",
    "sTs = 1\n",
    "MTs = np.arange(1,5,0.05)\n",
    "\n",
    "Ng = np.zeros(shape(MTs))\n",
    "\n",
    "for i in range(len(MTs)):\n",
    "    mTs = MTs[i]\n",
    "    Ng[i] = run_deterministic_one(mTs, sTs, mTa, sTa, tg)\n",
    "    \n",
    "plt.plot(MTs,Ng, 'o')"
   ]
  },
  {
   "cell_type": "markdown",
   "metadata": {},
   "source": [
    "### I have to\n",
    "- Validate that the stochastic version is right (compare with the sampling method)\n",
    "- Screen the deterministic version for different \n",
    "\n",
    "- There seems to be a result! If everything else is the same, the fitness can be larger when the std of the antibiotic duration is larger!"
   ]
  },
  {
   "cell_type": "code",
   "execution_count": 36,
   "metadata": {},
   "outputs": [],
   "source": [
    "mTa = 3\n",
    "sTa = 0 # deterministic Ta\n",
    "tg = 8\n",
    "\n",
    "MTs_start = 1\n",
    "MTs_stop = 8\n",
    "MTs_step = 1\n",
    "\n",
    "STs_start = 0.125\n",
    "STs_stop = 2\n",
    "STs_step = 0.5\n",
    "\n",
    "kwargs_s = {'MTs_start':MTs_start, 'MTs_stop':MTs_stop, 'MTs_step':MTs_step,\n",
    "            'STs_start':STs_start, 'STs_stop':STs_stop, 'STs_step':STs_step}\n",
    "\n",
    "MTs = np.arange(MTs_start, MTs_stop, MTs_step)\n",
    "STs = np.arange(STs_start, STs_stop, STs_step)\n",
    "\n",
    "kwargs = {'mTa':mTa, 'sTa':sTa, 'tg':tg}\n",
    "\n",
    "exp_key = '001'\n",
    "\n",
    "NN = run_deterministic(MTs, STs, mTa, sTa=0, tg=8)\n",
    "# save_experiment(exp_key, NN, kwargs, kwargs_s)"
   ]
  },
  {
   "cell_type": "markdown",
   "metadata": {},
   "source": [
    "## Cluster!"
   ]
  },
  {
   "cell_type": "code",
   "execution_count": 25,
   "metadata": {},
   "outputs": [],
   "source": [
    "scale_workers = 0\n",
    "\n",
    "if scale_workers > 0:\n",
    "    cluster.scale(scale_workers)\n",
    "\n",
    "def PAR_run_deterministic_single_sTs(sTs):\n",
    "    return run_deterministic_single_sTs(sTs, MTs, **kwargs)\n",
    "    \n",
    "fut = client.map(PAR_run_deterministic_single_sTs, STs)\n",
    "# dask.distributed.progress(fut)\n",
    "res = np.array(client.gather(fut)).T\n",
    "exp_key = '002' # MODIFY SO YOU DON'T OVERWRITE!!!!!\n",
    "save_experiment(exp_key, res, kwargs, kwargs_s)"
   ]
  },
  {
   "cell_type": "code",
   "execution_count": 48,
   "metadata": {},
   "outputs": [
    {
     "data": {
      "text/html": [
       "<table style=\"border: 2px solid white;\">\n",
       "<tr>\n",
       "<td style=\"vertical-align: top; border: 0px solid white\">\n",
       "<h3>Client</h3>\n",
       "<ul>\n",
       "  <li><b>Scheduler: </b>tcp://127.0.0.1:45651\n",
       "  <li><b>Dashboard: </b><a href='http://127.0.0.1:8787/status' target='_blank'>http://127.0.0.1:8787/status</a>\n",
       "</ul>\n",
       "</td>\n",
       "<td style=\"vertical-align: top; border: 0px solid white\">\n",
       "<h3>Cluster</h3>\n",
       "<ul>\n",
       "  <li><b>Workers: </b>6</li>\n",
       "  <li><b>Cores: </b>6</li>\n",
       "  <li><b>Memory: </b>24.82 GB</li>\n",
       "</ul>\n",
       "</td>\n",
       "</tr>\n",
       "</table>"
      ],
      "text/plain": [
       "<Client: scheduler='tcp://127.0.0.1:45651' processes=0 cores=0>"
      ]
     },
     "execution_count": 48,
     "metadata": {},
     "output_type": "execute_result"
    }
   ],
   "source": [
    "client.restart()"
   ]
  },
  {
   "cell_type": "code",
   "execution_count": 50,
   "metadata": {},
   "outputs": [
    {
     "ename": "KeyboardInterrupt",
     "evalue": "",
     "output_type": "error",
     "traceback": [
      "\u001b[0;31m---------------------------------------------------------------------------\u001b[0m",
      "\u001b[0;31mKeyboardInterrupt\u001b[0m                         Traceback (most recent call last)",
      "\u001b[0;32m<ipython-input-50-40cb9107693b>\u001b[0m in \u001b[0;36m<module>\u001b[0;34m\u001b[0m\n\u001b[1;32m      9\u001b[0m \u001b[0mfut\u001b[0m \u001b[0;34m=\u001b[0m \u001b[0mclient\u001b[0m\u001b[0;34m.\u001b[0m\u001b[0mmap\u001b[0m\u001b[0;34m(\u001b[0m\u001b[0mPAR_run_stoch_single_sTs\u001b[0m\u001b[0;34m,\u001b[0m \u001b[0mSTs\u001b[0m\u001b[0;34m)\u001b[0m\u001b[0;34m\u001b[0m\u001b[0;34m\u001b[0m\u001b[0m\n\u001b[1;32m     10\u001b[0m \u001b[0;31m# dask.distributed.progress(fut)\u001b[0m\u001b[0;34m\u001b[0m\u001b[0;34m\u001b[0m\u001b[0;34m\u001b[0m\u001b[0m\n\u001b[0;32m---> 11\u001b[0;31m \u001b[0mres\u001b[0m \u001b[0;34m=\u001b[0m \u001b[0mnp\u001b[0m\u001b[0;34m.\u001b[0m\u001b[0marray\u001b[0m\u001b[0;34m(\u001b[0m\u001b[0mclient\u001b[0m\u001b[0;34m.\u001b[0m\u001b[0mgather\u001b[0m\u001b[0;34m(\u001b[0m\u001b[0mfut\u001b[0m\u001b[0;34m)\u001b[0m\u001b[0;34m)\u001b[0m\u001b[0;34m.\u001b[0m\u001b[0mT\u001b[0m\u001b[0;34m\u001b[0m\u001b[0;34m\u001b[0m\u001b[0m\n\u001b[0m\u001b[1;32m     12\u001b[0m \u001b[0mexp_key\u001b[0m \u001b[0;34m=\u001b[0m \u001b[0;34m'003'\u001b[0m \u001b[0;31m# MODIFY SO YOU DON'T OVERWRITE!!!!!\u001b[0m\u001b[0;34m\u001b[0m\u001b[0;34m\u001b[0m\u001b[0m\n\u001b[1;32m     13\u001b[0m \u001b[0msave_experiment\u001b[0m\u001b[0;34m(\u001b[0m\u001b[0mexp_key\u001b[0m\u001b[0;34m,\u001b[0m \u001b[0mres\u001b[0m\u001b[0;34m,\u001b[0m \u001b[0mkwargs\u001b[0m\u001b[0;34m,\u001b[0m \u001b[0mkwargs_s\u001b[0m\u001b[0;34m)\u001b[0m\u001b[0;34m\u001b[0m\u001b[0;34m\u001b[0m\u001b[0m\n",
      "\u001b[0;32m~/anaconda3/lib/python3.7/site-packages/distributed/client.py\u001b[0m in \u001b[0;36mgather\u001b[0;34m(self, futures, errors, maxsize, direct, asynchronous)\u001b[0m\n\u001b[1;32m   1653\u001b[0m             return self.sync(self._gather, futures, errors=errors,\n\u001b[1;32m   1654\u001b[0m                              \u001b[0mdirect\u001b[0m\u001b[0;34m=\u001b[0m\u001b[0mdirect\u001b[0m\u001b[0;34m,\u001b[0m \u001b[0mlocal_worker\u001b[0m\u001b[0;34m=\u001b[0m\u001b[0mlocal_worker\u001b[0m\u001b[0;34m,\u001b[0m\u001b[0;34m\u001b[0m\u001b[0;34m\u001b[0m\u001b[0m\n\u001b[0;32m-> 1655\u001b[0;31m                              asynchronous=asynchronous)\n\u001b[0m\u001b[1;32m   1656\u001b[0m \u001b[0;34m\u001b[0m\u001b[0m\n\u001b[1;32m   1657\u001b[0m     \u001b[0;34m@\u001b[0m\u001b[0mgen\u001b[0m\u001b[0;34m.\u001b[0m\u001b[0mcoroutine\u001b[0m\u001b[0;34m\u001b[0m\u001b[0;34m\u001b[0m\u001b[0m\n",
      "\u001b[0;32m~/anaconda3/lib/python3.7/site-packages/distributed/client.py\u001b[0m in \u001b[0;36msync\u001b[0;34m(self, func, *args, **kwargs)\u001b[0m\n\u001b[1;32m    671\u001b[0m             \u001b[0;32mreturn\u001b[0m \u001b[0mfuture\u001b[0m\u001b[0;34m\u001b[0m\u001b[0;34m\u001b[0m\u001b[0m\n\u001b[1;32m    672\u001b[0m         \u001b[0;32melse\u001b[0m\u001b[0;34m:\u001b[0m\u001b[0;34m\u001b[0m\u001b[0;34m\u001b[0m\u001b[0m\n\u001b[0;32m--> 673\u001b[0;31m             \u001b[0;32mreturn\u001b[0m \u001b[0msync\u001b[0m\u001b[0;34m(\u001b[0m\u001b[0mself\u001b[0m\u001b[0;34m.\u001b[0m\u001b[0mloop\u001b[0m\u001b[0;34m,\u001b[0m \u001b[0mfunc\u001b[0m\u001b[0;34m,\u001b[0m \u001b[0;34m*\u001b[0m\u001b[0margs\u001b[0m\u001b[0;34m,\u001b[0m \u001b[0;34m**\u001b[0m\u001b[0mkwargs\u001b[0m\u001b[0;34m)\u001b[0m\u001b[0;34m\u001b[0m\u001b[0;34m\u001b[0m\u001b[0m\n\u001b[0m\u001b[1;32m    674\u001b[0m \u001b[0;34m\u001b[0m\u001b[0m\n\u001b[1;32m    675\u001b[0m     \u001b[0;32mdef\u001b[0m \u001b[0m__repr__\u001b[0m\u001b[0;34m(\u001b[0m\u001b[0mself\u001b[0m\u001b[0;34m)\u001b[0m\u001b[0;34m:\u001b[0m\u001b[0;34m\u001b[0m\u001b[0;34m\u001b[0m\u001b[0m\n",
      "\u001b[0;32m~/anaconda3/lib/python3.7/site-packages/distributed/utils.py\u001b[0m in \u001b[0;36msync\u001b[0;34m(loop, func, *args, **kwargs)\u001b[0m\n\u001b[1;32m    273\u001b[0m     \u001b[0;32melse\u001b[0m\u001b[0;34m:\u001b[0m\u001b[0;34m\u001b[0m\u001b[0;34m\u001b[0m\u001b[0m\n\u001b[1;32m    274\u001b[0m         \u001b[0;32mwhile\u001b[0m \u001b[0;32mnot\u001b[0m \u001b[0me\u001b[0m\u001b[0;34m.\u001b[0m\u001b[0mis_set\u001b[0m\u001b[0;34m(\u001b[0m\u001b[0;34m)\u001b[0m\u001b[0;34m:\u001b[0m\u001b[0;34m\u001b[0m\u001b[0;34m\u001b[0m\u001b[0m\n\u001b[0;32m--> 275\u001b[0;31m             \u001b[0me\u001b[0m\u001b[0;34m.\u001b[0m\u001b[0mwait\u001b[0m\u001b[0;34m(\u001b[0m\u001b[0;36m10\u001b[0m\u001b[0;34m)\u001b[0m\u001b[0;34m\u001b[0m\u001b[0;34m\u001b[0m\u001b[0m\n\u001b[0m\u001b[1;32m    276\u001b[0m     \u001b[0;32mif\u001b[0m \u001b[0merror\u001b[0m\u001b[0;34m[\u001b[0m\u001b[0;36m0\u001b[0m\u001b[0;34m]\u001b[0m\u001b[0;34m:\u001b[0m\u001b[0;34m\u001b[0m\u001b[0;34m\u001b[0m\u001b[0m\n\u001b[1;32m    277\u001b[0m         \u001b[0msix\u001b[0m\u001b[0;34m.\u001b[0m\u001b[0mreraise\u001b[0m\u001b[0;34m(\u001b[0m\u001b[0;34m*\u001b[0m\u001b[0merror\u001b[0m\u001b[0;34m[\u001b[0m\u001b[0;36m0\u001b[0m\u001b[0;34m]\u001b[0m\u001b[0;34m)\u001b[0m\u001b[0;34m\u001b[0m\u001b[0;34m\u001b[0m\u001b[0m\n",
      "\u001b[0;32m~/anaconda3/lib/python3.7/threading.py\u001b[0m in \u001b[0;36mwait\u001b[0;34m(self, timeout)\u001b[0m\n\u001b[1;32m    550\u001b[0m             \u001b[0msignaled\u001b[0m \u001b[0;34m=\u001b[0m \u001b[0mself\u001b[0m\u001b[0;34m.\u001b[0m\u001b[0m_flag\u001b[0m\u001b[0;34m\u001b[0m\u001b[0;34m\u001b[0m\u001b[0m\n\u001b[1;32m    551\u001b[0m             \u001b[0;32mif\u001b[0m \u001b[0;32mnot\u001b[0m \u001b[0msignaled\u001b[0m\u001b[0;34m:\u001b[0m\u001b[0;34m\u001b[0m\u001b[0;34m\u001b[0m\u001b[0m\n\u001b[0;32m--> 552\u001b[0;31m                 \u001b[0msignaled\u001b[0m \u001b[0;34m=\u001b[0m \u001b[0mself\u001b[0m\u001b[0;34m.\u001b[0m\u001b[0m_cond\u001b[0m\u001b[0;34m.\u001b[0m\u001b[0mwait\u001b[0m\u001b[0;34m(\u001b[0m\u001b[0mtimeout\u001b[0m\u001b[0;34m)\u001b[0m\u001b[0;34m\u001b[0m\u001b[0;34m\u001b[0m\u001b[0m\n\u001b[0m\u001b[1;32m    553\u001b[0m             \u001b[0;32mreturn\u001b[0m \u001b[0msignaled\u001b[0m\u001b[0;34m\u001b[0m\u001b[0;34m\u001b[0m\u001b[0m\n\u001b[1;32m    554\u001b[0m \u001b[0;34m\u001b[0m\u001b[0m\n",
      "\u001b[0;32m~/anaconda3/lib/python3.7/threading.py\u001b[0m in \u001b[0;36mwait\u001b[0;34m(self, timeout)\u001b[0m\n\u001b[1;32m    298\u001b[0m             \u001b[0;32melse\u001b[0m\u001b[0;34m:\u001b[0m\u001b[0;34m\u001b[0m\u001b[0;34m\u001b[0m\u001b[0m\n\u001b[1;32m    299\u001b[0m                 \u001b[0;32mif\u001b[0m \u001b[0mtimeout\u001b[0m \u001b[0;34m>\u001b[0m \u001b[0;36m0\u001b[0m\u001b[0;34m:\u001b[0m\u001b[0;34m\u001b[0m\u001b[0;34m\u001b[0m\u001b[0m\n\u001b[0;32m--> 300\u001b[0;31m                     \u001b[0mgotit\u001b[0m \u001b[0;34m=\u001b[0m \u001b[0mwaiter\u001b[0m\u001b[0;34m.\u001b[0m\u001b[0macquire\u001b[0m\u001b[0;34m(\u001b[0m\u001b[0;32mTrue\u001b[0m\u001b[0;34m,\u001b[0m \u001b[0mtimeout\u001b[0m\u001b[0;34m)\u001b[0m\u001b[0;34m\u001b[0m\u001b[0;34m\u001b[0m\u001b[0m\n\u001b[0m\u001b[1;32m    301\u001b[0m                 \u001b[0;32melse\u001b[0m\u001b[0;34m:\u001b[0m\u001b[0;34m\u001b[0m\u001b[0;34m\u001b[0m\u001b[0m\n\u001b[1;32m    302\u001b[0m                     \u001b[0mgotit\u001b[0m \u001b[0;34m=\u001b[0m \u001b[0mwaiter\u001b[0m\u001b[0;34m.\u001b[0m\u001b[0macquire\u001b[0m\u001b[0;34m(\u001b[0m\u001b[0;32mFalse\u001b[0m\u001b[0;34m)\u001b[0m\u001b[0;34m\u001b[0m\u001b[0;34m\u001b[0m\u001b[0m\n",
      "\u001b[0;31mKeyboardInterrupt\u001b[0m: "
     ]
    }
   ],
   "source": [
    "scale_workers = 0\n",
    "\n",
    "if scale_workers > 0:\n",
    "    cluster.scale(scale_workers)\n",
    "\n",
    "def PAR_run_stoch_single_sTs(sTs):\n",
    "    return run_stochastic_single_sTs(sTs, MTs, **kwargs)\n",
    "    \n",
    "fut = client.map(PAR_run_stoch_single_sTs, STs)\n",
    "# dask.distributed.progress(fut)\n",
    "res = np.array(client.gather(fut)).T\n",
    "exp_key = '003' # MODIFY SO YOU DON'T OVERWRITE!!!!!\n",
    "save_experiment(exp_key, res, kwargs, kwargs_s)"
   ]
  },
  {
   "cell_type": "code",
   "execution_count": null,
   "metadata": {},
   "outputs": [],
   "source": [
    "plot_heatmap(MTs, STs, res, mTa, MTs_step)\n",
    "# plot_max_lines(MTs, STs, NN, mTa)"
   ]
  },
  {
   "cell_type": "code",
   "execution_count": 39,
   "metadata": {},
   "outputs": [
    {
     "data": {
      "image/png": "[encoded data removed]",
      "text/plain": [
       "<Figure size 576x360 with 2 Axes>"
      ]
     },
     "metadata": {
      "needs_background": "light"
     },
     "output_type": "display_data"
    }
   ],
   "source": [
    "plot_heatmap(MTs, STs, NN, mTa, MTs_step)\n",
    "# plot_max_lines(MTs, STs, NN, mTa)"
   ]
  },
  {
   "cell_type": "markdown",
   "metadata": {},
   "source": [
    "## Load"
   ]
  },
  {
   "cell_type": "code",
   "execution_count": null,
   "metadata": {},
   "outputs": [],
   "source": [
    "prefix = './'\n",
    "\n",
    "meta = load_metadata(exp_key, prefix)\n",
    "res = np.load(prefix+'iexp_'+exp_key+'.npy')\n",
    "res"
   ]
  },
  {
   "cell_type": "code",
   "execution_count": 9,
   "metadata": {},
   "outputs": [],
   "source": [
    "mTa = 3\n",
    "sTa = 0.5\n",
    "Ta = sps.norm(mTa, sTa)\n",
    "\n",
    "NN = run_stochastic(MTs, STs, Ta, tg)"
   ]
  },
  {
   "cell_type": "code",
   "execution_count": 11,
   "metadata": {},
   "outputs": [
    {
     "data": {
      "image/png": "[encoded data removed]",
      "text/plain": [
       "<Figure size 576x360 with 2 Axes>"
      ]
     },
     "metadata": {
      "needs_background": "light"
     },
     "output_type": "display_data"
    }
   ],
   "source": [
    "plot_heatmap(MTs, STs, NN, mTa)"
   ]
  },
  {
   "cell_type": "code",
   "execution_count": 10,
   "metadata": {},
   "outputs": [
    {
     "data": {
      "image/png": "[encoded data removed]",
      "text/plain": [
       "<Figure size 576x360 with 2 Axes>"
      ]
     },
     "metadata": {
      "needs_background": "light"
     },
     "output_type": "display_data"
    }
   ],
   "source": [
    "plot_heatmap(MTs, STs, res, mTa)"
   ]
  },
  {
   "cell_type": "code",
   "execution_count": null,
   "metadata": {},
   "outputs": [],
   "source": [
    "scale_workers = 0\n",
    "\n",
    "if scale_workers > 0:\n",
    "    cluster.scale(scale_workers)\n",
    "\n",
    "def PAR_run_deterministic_single_sTs(sTs):\n",
    "    return run_deterministic_single_sTs(sTs, MTs, **kwargs)\n",
    "    \n",
    "fut = client.map(PAR_run_deterministic_single_sTs, STs)\n",
    "# dask.distributed.progress(fut)\n",
    "res = np.array(client.gather(fut)).T\n",
    "exp_key = '002' # MODIFY SO YOU DON'T OVERWRITE!!!!!\n",
    "save_experiment(exp_key, res, kwargs, kwargs_s)"
   ]
  },
  {
   "cell_type": "code",
   "execution_count": null,
   "metadata": {},
   "outputs": [],
   "source": [
    "def get_max_of_max(MTs, STs, MN):\n",
    "    '''\n",
    "    Get the numbers associated with the values of parameters that yield the maximum fitness.\n",
    "    '''\n",
    "\n",
    "    max_col_ind = np.argmax(np.max(MN, axis = 1))\n",
    "    max_row_ind = np.argmax(np.max(MN, axis = 0))\n",
    "    \n",
    "#     max_MTs_vs_std = np.argmax(MN, axis=0)\n",
    "#     plt.plot(STs, MTs[max_MTs_vs_std], '-o', label = str(sTa))\n",
    "    \n",
    "    mean_max_fit = MTs[max_col_ind] # Mean lag time that yields max fitness\n",
    "    std_max_fit = STs[max_row_ind] # Std of lag times that yields max fitness\n",
    "    \n",
    "    max_fit = MN[max_col_ind, max_row_ind] # Final population that yields max fitness\n",
    "#     max_fit_var = np.sqrt(VN[max_col_ind, max_row_ind]) # Variance in final population that yields max fitness\n",
    "\n",
    "    return mean_max_fit, std_max_fit, max_fit\n",
    "\n",
    "get_max_of_max(MTs, STs, NN)"
   ]
  },
  {
   "cell_type": "code",
   "execution_count": null,
   "metadata": {},
   "outputs": [],
   "source": [
    "def max_several_exp_det(MTs, STs, MTa, tg):\n",
    "    \n",
    "    Mean_max_fit, Std_max_fit, Max_fit = np.zeros(len(MTa)), np.zeros(len(MTa)), np.zeros(len(MTa))    \n",
    "    for i in range(len(MTa)):\n",
    "        mTa = MTa[i]\n",
    "        NN = run_deterministic(MTs, STs, mTa, tg) # REPLACE FOR LOAD LATER!\n",
    "        Mean_max_fit[i], Std_max_fit[i], Max_fit[i] = get_max_of_max(MTs, STs, NN)\n",
    "    return Mean_max_fit, Std_max_fit, Max_fit"
   ]
  },
  {
   "cell_type": "code",
   "execution_count": null,
   "metadata": {},
   "outputs": [],
   "source": [
    "MTs_start = 1\n",
    "MTs_stop = 8\n",
    "MTs_step = 0.25\n",
    "\n",
    "STs_start = 0.05\n",
    "STs_stop = 1\n",
    "STs_step = 0.05\n",
    "\n",
    "MTs = np.arange(MTs_start, MTs_stop, MTs_step)\n",
    "STs = np.arange(STs_start, STs_stop, STs_step)\n",
    "\n",
    "MTa_start = 2\n",
    "MTa_stop = 5\n",
    "MTa_step = 0.25\n",
    "MTa = np.arange(MTa_start, MTa_stop, MTa_step)\n",
    "\n",
    "Mean_max_fit, Std_max_fit, Max_fit = max_several_exp_det(MTs, STs, MTa, tg)"
   ]
  },
  {
   "cell_type": "code",
   "execution_count": null,
   "metadata": {
    "scrolled": false
   },
   "outputs": [],
   "source": [
    "fig, ax = plt.subplots(1, 3, figsize=(12,4),tight_layout=True)\n",
    "ax[0].plot(MTa, Mean_max_fit, 'o--')\n",
    "ax[0].set_xlabel('AB duration')\n",
    "ax[0].set_ylabel('Mean lag time for max. fitness')\n",
    "\n",
    "ax[1].plot(MTa, Std_max_fit, 'o--')\n",
    "ax[1].set_xlabel('AB duration')\n",
    "ax[1].set_ylabel('standard deviation in lag time for max. fitness')\n",
    "\n",
    "ax[2].plot(MTa, Max_fit, 'o--')\n",
    "ax[2].set_xlabel('AB duration')\n",
    "ax[2].set_ylabel('Max. fitness')"
   ]
  },
  {
   "cell_type": "code",
   "execution_count": null,
   "metadata": {},
   "outputs": [],
   "source": [
    "def max_several_exp_stoch(MTs, STs, MTa, tg):\n",
    "    \n",
    "    Mean_max_fit, Std_max_fit, Max_fit = np.zeros(len(MTa)), np.zeros(len(MTa)), np.zeros(len(MTa))    \n",
    "    for i in range(len(MTa)):\n",
    "        mTa = MTa[i]\n",
    "        NN = run_deterministic(MTs, STs, mTa, tg) # REPLACE FOR LOAD LATER!\n",
    "        Mean_max_fit[i], Std_max_fit[i], Max_fit[i] = get_max_of_max(MTs, STs, NN)\n",
    "    return Mean_max_fit, Std_max_fit, Max_fit"
   ]
  }
 ],
 "metadata": {
  "kernelspec": {
   "display_name": "Python 3",
   "language": "python",
   "name": "python3"
  },
  "language_info": {
   "codemirror_mode": {
    "name": "ipython",
    "version": 3
   },
   "file_extension": ".py",
   "mimetype": "text/x-python",
   "name": "python",
   "nbconvert_exporter": "python",
   "pygments_lexer": "ipython3",
   "version": "3.7.1"
  }
 },
 "nbformat": 4,
 "nbformat_minor": 2
}
