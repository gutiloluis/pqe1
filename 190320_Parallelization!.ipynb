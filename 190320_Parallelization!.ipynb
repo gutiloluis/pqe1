{
 "cells": [
  {
   "cell_type": "code",
   "execution_count": 12,
   "metadata": {},
   "outputs": [
    {
     "name": "stdout",
     "output_type": "stream",
     "text": [
      "Populating the interactive namespace from numpy and matplotlib\n"
     ]
    },
    {
     "ename": "ModuleNotFoundError",
     "evalue": "No module named 'dask_jobqueue'",
     "output_type": "error",
     "traceback": [
      "\u001b[1;31m---------------------------------------------------------------------------\u001b[0m",
      "\u001b[1;31mModuleNotFoundError\u001b[0m                       Traceback (most recent call last)",
      "\u001b[1;32m<ipython-input-12-7f645044e242>\u001b[0m in \u001b[0;36m<module>\u001b[1;34m()\u001b[0m\n\u001b[0;32m      2\u001b[0m \u001b[1;32mimport\u001b[0m \u001b[0mdask\u001b[0m\u001b[1;33m\u001b[0m\u001b[0m\n\u001b[0;32m      3\u001b[0m \u001b[1;32mfrom\u001b[0m \u001b[0mdask\u001b[0m\u001b[1;33m.\u001b[0m\u001b[0mdistributed\u001b[0m \u001b[1;32mimport\u001b[0m \u001b[0mClient\u001b[0m\u001b[1;33m\u001b[0m\u001b[0m\n\u001b[1;32m----> 4\u001b[1;33m \u001b[1;32mfrom\u001b[0m \u001b[0mdask_jobqueue\u001b[0m \u001b[1;32mimport\u001b[0m \u001b[0mSLURMCluster\u001b[0m\u001b[1;33m\u001b[0m\u001b[0m\n\u001b[0m\u001b[0;32m      5\u001b[0m \u001b[1;32mimport\u001b[0m \u001b[0mseaborn\u001b[0m \u001b[1;32mas\u001b[0m \u001b[0msns\u001b[0m\u001b[1;33m\u001b[0m\u001b[0m\n\u001b[0;32m      6\u001b[0m \u001b[1;32mimport\u001b[0m \u001b[0mtime\u001b[0m\u001b[1;33m\u001b[0m\u001b[0m\n",
      "\u001b[1;31mModuleNotFoundError\u001b[0m: No module named 'dask_jobqueue'"
     ]
    }
   ],
   "source": [
    "%pylab inline\n",
    "import dask\n",
    "from dask.distributed import Client\n",
    "from dask_jobqueue import SLURMCluster\n",
    "import seaborn as sns\n",
    "import time\n",
    "\n",
    "def sec_to_min_s(t):\n",
    "    m = int(t/60)\n",
    "    s = t%60\n",
    "    return str(m)+\":\"+str(np.round(s, 2))"
   ]
  },
  {
   "cell_type": "code",
   "execution_count": null,
   "metadata": {},
   "outputs": [],
   "source": [
    "run_local = True\n",
    "n_workers_init = 6\n",
    "\n",
    "if run_local:\n",
    "    client = Client()\n",
    "    client.cluster.scale(n_workers_init)\n",
    "    time.sleep(0.5) # allow client time to respond to scaling before display\n",
    "else:\n",
    "    # note the specifed walltime, don't use too much or too little, 01:30:00 is a good baseline, \n",
    "    # you just need enough time to finish 'gathering' to props_all before the jobs die\n",
    "    # you can always spin up more jobs later\n",
    "    # you will launch many jobs, so you don't need multiple processes, a lot of ram or multiple threads\n",
    "    cluster = SLURMCluster(queue=\"short\",walltime='01:30:00',job_cpu=1,job_mem='6G',threads=1,processes=1,memory='6GB')\n",
    "    cluster.start_workers(n_workers_init)\n",
    "    client = Client(cluster)\n",
    "\n",
    "client"
   ]
  },
  {
   "cell_type": "code",
   "execution_count": 2,
   "metadata": {},
   "outputs": [
    {
     "data": {
      "text/html": [
       "<table style=\"border: 2px solid white;\">\n",
       "<tr>\n",
       "<td style=\"vertical-align: top; border: 0px solid white\">\n",
       "<h3>Client</h3>\n",
       "<ul>\n",
       "  <li><b>Scheduler: </b>tcp://127.0.0.1:62303\n",
       "  <li><b>Dashboard: </b><a href='http://127.0.0.1:8787/status' target='_blank'>http://127.0.0.1:8787/status</a>\n",
       "</ul>\n",
       "</td>\n",
       "<td style=\"vertical-align: top; border: 0px solid white\">\n",
       "<h3>Cluster</h3>\n",
       "<ul>\n",
       "  <li><b>Workers: </b>4</li>\n",
       "  <li><b>Cores: </b>4</li>\n",
       "  <li><b>Memory: </b>8.26 GB</li>\n",
       "</ul>\n",
       "</td>\n",
       "</tr>\n",
       "</table>"
      ],
      "text/plain": [
       "<Client: scheduler='tcp://127.0.0.1:62303' processes=4 cores=4>"
      ]
     },
     "execution_count": 2,
     "metadata": {},
     "output_type": "execute_result"
    }
   ],
   "source": [
    "client.close()\n",
    "run_local = True\n",
    "n_workers_init = 10\n",
    "\n",
    "if run_local:\n",
    "    client = Client()\n",
    "    client.cluster.scale(n_workers_init)\n",
    "    time.sleep(0.5) # allow client time to respond to scaling before display\n",
    "client"
   ]
  },
  {
   "cell_type": "markdown",
   "metadata": {},
   "source": [
    "### Ahora si pues!"
   ]
  },
  {
   "cell_type": "code",
   "execution_count": 3,
   "metadata": {},
   "outputs": [],
   "source": [
    "# DEFINE DEFAULT VALUES\n",
    "mTs = 3\n",
    "mTa = 3\n",
    "sTs = 0\n",
    "sTa = 0\n",
    "\n",
    "def growth_det(t, N0=1):\n",
    "    '''\n",
    "    Grow cells exponentially for a time t\n",
    "        t: Growth time\n",
    "        N0: Initial population\n",
    "    '''\n",
    "    return N0*np.exp(t)\n",
    "\n",
    "def sample_Ts(mTs=mTs, sTs=sTs, size=1, use_cv = False):\n",
    "    '''\n",
    "    Sample lag times for the initial population according to a Gaussian distribution of lag times\n",
    "        mTs: Mean lag time\n",
    "        sTs: Standard deviation of lag times\n",
    "        size: Initial population number\n",
    "    '''\n",
    "    if use_cv:\n",
    "        return np.random.normal(loc=mTs, scale=sTs*mTs, size=size)\n",
    "    else:\n",
    "        return np.random.normal(loc=mTs, scale=sTs, size=size)\n",
    "\n",
    "def sample_Ta(mTa=mTa, sTa=sTa, use_cv = False):\n",
    "    '''\n",
    "    Sample times of AB exposure for one round of growth according to a normal distribution\n",
    "        mTa: Mean duration of AB\n",
    "        sTs: Standard deviation of the duration of AB\n",
    "    '''\n",
    "    if use_cv:\n",
    "        return np.random.normal(loc=mTa, scale=sTa*mTa)\n",
    "    else:\n",
    "        return np.random.normal(loc=mTa, scale=sTa)\n",
    "\n",
    "def single_growth_cycle_stoch(Ts, ta, tg):\n",
    "    '''\n",
    "    Runs a single growth cycle for a given set of lag times Ts, a sampled AB duration ta,\n",
    "    and a growth time tg\n",
    "        Ts (array-like): List of lag times\n",
    "        ta: antibiotic duration\n",
    "        tg: growth time\n",
    "    '''\n",
    "    # select survivors i.e. cells for which Ts > Ta\n",
    "    Ts_surv = Ts[np.where(Ts > ta)[0]]\n",
    "    n_surv = len(Ts_surv)\n",
    "    # select the cells that survived and started growing early enough to grow\n",
    "    Ts_grow = Ts_surv[np.where(Ts_surv < ta+tg)[0]]\n",
    "    n_grow = len(Ts_grow)\n",
    "    # The ones that survived the AB but did not start growing only add 1 to the final count\n",
    "    n_ngrow = n_surv - n_grow\n",
    "    n = n_ngrow\n",
    "    # Each parent cell contributes with a lineage that grows exponentially for a time tg-ts\n",
    "    for ts in Ts_grow:\n",
    "        n += growth_det(t=tg-ts)\n",
    "    return n, n_surv, n_ngrow\n",
    "\n",
    "def many_growth_cycles_stochTa_full(mTs, sTs, mTa, sTa, k=1000, n0=1000, tg=3, use_cvss = False,\n",
    "                                   use_cva = False):\n",
    "    '''\n",
    "    Run many growth cycles given the statistics for lag and AB times.\n",
    "    At each cycle, lag times and AB times are sampled\n",
    "    FULL_VERSION: Returns the entire array of final population\n",
    "    '''\n",
    "    N = np.zeros(k)\n",
    "    N_surv = np.zeros(k)\n",
    "    N_ngrow = np.zeros(k)\n",
    "    for i in range(k):\n",
    "        ta = sample_Ta(mTa=mTa, sTa=sTa, use_cv = use_cva)\n",
    "        Ts = sample_Ts(mTs=mTs, sTs=sTs, size=n0, use_cv=use_cvs)\n",
    "        N[i], N_surv[i], N_ngrow[i] = single_growth_cycle_stoch(Ts=Ts, ta=ta, tg=tg)\n",
    "    return N, N_surv, N_ngrow\n",
    "\n",
    "def many_growth_cycles_stochTa_short(mTs, sTs=0.5, mTa=3, sTa=0, k=1000, n0=100, tg=8, use_cvs = False,\n",
    "                                    use_cva = False):\n",
    "    '''\n",
    "    Run many growth cycles given the statistics for lag and AB times.\n",
    "    At each cycle, lag times and AB times are sampled\n",
    "    SHORT_VERSION: Returns the means and variances of the final population\n",
    "    '''\n",
    "    n_sum, n_surv_sum, n_ngrow_sum = 0, 0, 0\n",
    "    n2_sum, n_surv2_sum, n_ngrow2_sum = 0, 0, 0\n",
    "    \n",
    "    for _ in range(k):\n",
    "        ta = sample_Ta(mTa=mTa, sTa=sTa, use_cv=use_cva)\n",
    "        Ts = sample_Ts(mTs=mTs, sTs=sTs, size=n0, use_cv = use_cvs)\n",
    "        n, n_surv, n_ngrow = single_growth_cycle_stoch(Ts=Ts, ta=ta, tg=tg)\n",
    "        \n",
    "        n_sum, n_surv_sum, N_grow_sum = n_sum+n, n_surv_sum+n_surv, n_ngrow_sum+n_ngrow\n",
    "        n2_sum, n_surv2_sum, n_ngrow2_sum = n2_sum+n**2, n_surv2_sum+n_surv**2, n_ngrow2_sum+n_ngrow**2\n",
    "            \n",
    "    mN, mN_surv, mN_ngrow = n_sum/k, n_surv_sum/k, n_ngrow_sum/k\n",
    "    vN, vN_surv, vN_ngrow = n2_sum/k-mN**2, n_surv2_sum/k-mN_surv**2, n_ngrow2_sum/k-mN_ngrow**2\n",
    "    return mN, mN_surv, mN_ngrow, vN, vN_surv, vN_ngrow\n",
    "\n",
    "def sample_Ts_statistics(MTs, STs=[0.5], mTa=3, sTa=0, k=1000, n0=100, tg=8, use_cvs = False, use_cva=False):\n",
    "    '''\n",
    "    Run many growth cycles FOR DIFFERENT VALUES OF THE\n",
    "    STATISTICS FOR THE LAG TIMES. \n",
    "    SHORT_VERSION: Returns the entire array of final population\n",
    "    '''\n",
    "    # TODO: Initialize arrays to store what you want\n",
    "    MN = np.zeros((len(MTs), len(STs)))\n",
    "    VN = np.zeros((len(MTs), len(STs)))\n",
    "    for i in range(len(MTs)):\n",
    "        mTs = MTs[i]\n",
    "        for j in range(len(STs)):\n",
    "            sTs = STs[j]\n",
    "            # TODO: Modify to keep what you want\n",
    "            mN, _, _, vN, _, _ = many_growth_cycles_stochTa_short(mTs=mTs, sTs=sTs, mTa=mTa,\n",
    "                                                                  sTa=sTa, k=k, n0=n0, tg=tg,\n",
    "                                                                 use_cvs=use_cvs, use_cva=use_cva)\n",
    "            MN[i,j] = mN\n",
    "            VN[i,j] = vN\n",
    "    return MN, VN\n",
    "\n",
    "def sample_Ts_long(MTs, STs, mTa, sTa, k=1000, n0=1000, tg=3, use_cvs=False, use_cva=False):\n",
    "    '''\n",
    "    Run many growth cycles FOR DIFFERENT VALUES OF THE\n",
    "    STATISTICS FOR THE LAG TIMES.\n",
    "    LONG_VERSION: Returns the entire array of final population\n",
    "    Returns:\n",
    "        \n",
    "    '''\n",
    "    # TODO: Initialize arrays to store what you want\n",
    "    NN, N_SURV, N_NGROW = np.zeros((len(MTs), len(STs), k)), np.zeros((len(MTs), len(STs), k)), np.zeros((len(MTs), len(STs), k))\n",
    "    for i in range(len(MTs)):\n",
    "        mTs = MTs[i]\n",
    "        for j in range(len(STs)):\n",
    "            sTs = STs[j]\n",
    "            # TODO: Modify to keep what you want\n",
    "            N, N_surv, N_ngrow = many_growth_cycles_stochTa_full(mTs=mTs, sTs=sTs, mTa=mTa,\n",
    "                                                                  sTa=sTa, k=k, n0=n0, tg=tg,\n",
    "                                                                use_cvs=use_cvs, use_cva=use_cva) \n",
    "            NN[i,j,:] = N\n",
    "            N_SURV[i,j,:] = N_surv\n",
    "            N_NGROW[i,j,:] = N_ngrow\n",
    "            \n",
    "    return NN, N_SURV, N_NGROW"
   ]
  },
  {
   "cell_type": "code",
   "execution_count": 4,
   "metadata": {},
   "outputs": [
    {
     "data": {
      "application/vnd.jupyter.widget-view+json": {
       "model_id": "9e4e7fa1668e42e1ab70d5315446afae",
       "version_major": 2,
       "version_minor": 0
      },
      "text/plain": [
       "VBox()"
      ]
     },
     "metadata": {},
     "output_type": "display_data"
    },
    {
     "name": "stderr",
     "output_type": "stream",
     "text": [
      "distributed.comm.tcp - WARNING - Closing dangling stream in <TCP local=tcp://127.0.0.1:62448 remote=tcp://127.0.0.1:62303>\n",
      "distributed.comm.tcp - WARNING - Closing dangling stream in <TCP local=tcp://127.0.0.1:62450 remote=tcp://127.0.0.1:62303>\n",
      "distributed.comm.tcp - WARNING - Closing dangling stream in <TCP local=tcp://127.0.0.1:62454 remote=tcp://127.0.0.1:62303>\n",
      "distributed.comm.tcp - WARNING - Closing dangling stream in <TCP local=tcp://127.0.0.1:62457 remote=tcp://127.0.0.1:62303>\n",
      "distributed.comm.tcp - WARNING - Closing dangling stream in <TCP local=tcp://127.0.0.1:62461 remote=tcp://127.0.0.1:62303>\n",
      "distributed.comm.tcp - WARNING - Closing dangling stream in <TCP local=tcp://127.0.0.1:62464 remote=tcp://127.0.0.1:62303>\n",
      "distributed.comm.tcp - WARNING - Closing dangling stream in <TCP local=tcp://127.0.0.1:62467 remote=tcp://127.0.0.1:62303>\n",
      "distributed.comm.tcp - WARNING - Closing dangling stream in <TCP local=tcp://127.0.0.1:62471 remote=tcp://127.0.0.1:62303>\n",
      "distributed.comm.tcp - WARNING - Closing dangling stream in <TCP local=tcp://127.0.0.1:62472 remote=tcp://127.0.0.1:62303>\n",
      "distributed.comm.tcp - WARNING - Closing dangling stream in <TCP local=tcp://127.0.0.1:62481 remote=tcp://127.0.0.1:62303>\n"
     ]
    }
   ],
   "source": [
    "MTs = np.arange(1,8,0.05)\n",
    "STs = np.arange(0,2,0.05)\n",
    "\n",
    "mTa = 3\n",
    "sTa = 0\n",
    "k = 100\n",
    "n0 = 100\n",
    "tg = 8\n",
    "# many_growth_cycles_stochTa_short(mTs, sTs=0.5, mTa=3, sTa=0, k=1000, n0=100, tg=8, use_cvs = False,\n",
    "          #                          use_cva = False)\n",
    "    \n",
    "kwargs = {'mTa':mTa, 'sTa':sTa, 'k':k, 'n0':n0, 'tg':tg}\n",
    "futures = []\n",
    "for sTs in STs:\n",
    "    def PAR_many_growth_cycles_stochTa_short(mTs):\n",
    "        return many_growth_cycles_stochTa_short(mTs, sTs, **kwargs)\n",
    "    fut = client.map(PAR_many_growth_cycles_stochTa_short, MTs)\n",
    "    futures.append(fut)\n",
    "    \n",
    "all_futures = [fu for sublist in futures for fu in sublist]\n",
    "dask.distributed.progress(all_futures)"
   ]
  },
  {
   "cell_type": "code",
   "execution_count": 5,
   "metadata": {},
   "outputs": [
    {
     "name": "stderr",
     "output_type": "stream",
     "text": [
      "distributed.comm.tcp - WARNING - Closing dangling stream in <TCP local=tcp://127.0.0.1:62494 remote=tcp://127.0.0.1:62303>\n",
      "distributed.comm.tcp - WARNING - Closing dangling stream in <TCP local=tcp://127.0.0.1:62497 remote=tcp://127.0.0.1:62303>\n"
     ]
    }
   ],
   "source": [
    "res = np.array(client.gather(futures))\n",
    "MN = res[:,:,0].T\n",
    "VN = res[:,:,3].T"
   ]
  },
  {
   "cell_type": "code",
   "execution_count": 10,
   "metadata": {},
   "outputs": [
    {
     "data": {
      "text/plain": [
       "Text(0.5,1,'$t_a=$3')"
      ]
     },
     "execution_count": 10,
     "metadata": {},
     "output_type": "execute_result"
    },
    {
     "data": {
      "image/png": "[encoded data removed]",
      "text/plain": [
       "<Figure size 576x360 with 2 Axes>"
      ]
     },
     "metadata": {},
     "output_type": "display_data"
    }
   ],
   "source": [
    "#Indices of E(T_s) values for max fitness as a function of std\n",
    "max_MTs_vs_std = np.argmax(MN, axis=0)\n",
    "#Indices of std(T_s) values for max fitness as a function of E(T_s)\n",
    "max_STs_vs_mean = np.argmax(MN, axis=1)\n",
    "\n",
    "plt.figure(figsize=(8,5))\n",
    "y_conv = np.arange(len(max_MTs_vs_std))\n",
    "plt.plot(max_MTs_vs_std+0.5, y_conv+0.5, 'o-')\n",
    "x_conv = np.arange(len(max_STs_vs_mean))\n",
    "plt.plot(x_conv+0.5, max_STs_vs_mean+0.5, 'o-')\n",
    "# ax = sns.heatmap(MN.T/n0, yticklabels=STs, xticklabels=MTs)\n",
    "ax = sns.heatmap(MN.T/n0, yticklabels=False, xticklabels=False)\n",
    "plt.vlines(np.where(abs(MTs-3) <= 0.05/2)[0][0]+0.5, 0,len(y_conv), color='r', linestyles='--')\n",
    "ax.invert_yaxis()\n",
    "plt.ylabel('Standard deviation')\n",
    "plt.xlabel('Mean lag time')\n",
    "plt.title('$t_a=$'+str(mTa))"
   ]
  },
  {
   "cell_type": "markdown",
   "metadata": {},
   "source": [
    "### 2019/03/31\n",
    "\n",
    "For fixed mTa and sTa\n",
    "I need to screen mainly across MTs and STs. (Then test for several values of sTa).\n",
    "The number of simulations $k$ needed for a certain value of sTa will grow as sTa. It will be huge if I want to get a good estimate of the means (TODO estimate this).\n",
    "In each simulation, I want to store the statistics for all N_f, N_ngrow, N_surv (maybe the total for one, but it will be a lot of data if I do it for all simulations).\n",
    "I want to check different values of t_g too, but maybe just for some of them.\n",
    "Maybe: Test different n0, increasing n0 is also a way to reduce the noise in N_f. However, simulations will take longer to run."
   ]
  },
  {
   "cell_type": "code",
   "execution_count": null,
   "metadata": {},
   "outputs": [],
   "source": []
  }
 ],
 "metadata": {
  "kernelspec": {
   "display_name": "Python 3",
   "language": "python",
   "name": "python3"
  },
  "language_info": {
   "codemirror_mode": {
    "name": "ipython",
    "version": 3
   },
   "file_extension": ".py",
   "mimetype": "text/x-python",
   "name": "python",
   "nbconvert_exporter": "python",
   "pygments_lexer": "ipython3",
   "version": "3.6.5"
  }
 },
 "nbformat": 4,
 "nbformat_minor": 2
}
