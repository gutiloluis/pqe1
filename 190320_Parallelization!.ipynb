{
 "cells": [
  {
   "cell_type": "code",
   "execution_count": 10,
   "metadata": {},
   "outputs": [],
   "source": [
    "import bokeh"
   ]
  },
  {
   "cell_type": "code",
   "execution_count": 1,
   "metadata": {},
   "outputs": [
    {
     "name": "stdout",
     "output_type": "stream",
     "text": [
      "Populating the interactive namespace from numpy and matplotlib\n"
     ]
    },
    {
     "name": "stderr",
     "output_type": "stream",
     "text": [
      "/home/lag36/anaconda3/lib/python3.7/site-packages/dask_jobqueue/config.py:12: YAMLLoadWarning: calling yaml.load() without Loader=... is deprecated, as the default Loader is unsafe. Please read https://msg.pyyaml.org/load for full details.\n",
      "  defaults = yaml.load(f)\n"
     ]
    }
   ],
   "source": [
    "%pylab inline\n",
    "import csv\n",
    "import dask\n",
    "from dask.distributed import Client\n",
    "import seaborn as sns\n",
    "import time\n",
    "\n",
    "def sec_to_min_s(t):\n",
    "    m = int(t/60)\n",
    "    s = t%60\n",
    "    return str(m)+\":\"+str(np.round(s, 2))\n",
    "\n",
    "from dask_jobqueue import SLURMCluster"
   ]
  },
  {
   "cell_type": "code",
   "execution_count": 2,
   "metadata": {},
   "outputs": [
    {
     "data": {
      "text/html": [
       "<table style=\"border: 2px solid white;\">\n",
       "<tr>\n",
       "<td style=\"vertical-align: top; border: 0px solid white\">\n",
       "<h3>Client</h3>\n",
       "<ul>\n",
       "  <li><b>Scheduler: </b>tcp://10.120.17.86:48350\n",
       "  <li><b>Dashboard: </b><a href='http://10.120.17.86:8787/status' target='_blank'>http://10.120.17.86:8787/status</a>\n",
       "</ul>\n",
       "</td>\n",
       "<td style=\"vertical-align: top; border: 0px solid white\">\n",
       "<h3>Cluster</h3>\n",
       "<ul>\n",
       "  <li><b>Workers: </b>0</li>\n",
       "  <li><b>Cores: </b>0</li>\n",
       "  <li><b>Memory: </b>0 B</li>\n",
       "</ul>\n",
       "</td>\n",
       "</tr>\n",
       "</table>"
      ],
      "text/plain": [
       "<Client: scheduler='tcp://10.120.17.86:48350' processes=0 cores=0>"
      ]
     },
     "execution_count": 2,
     "metadata": {},
     "output_type": "execute_result"
    }
   ],
   "source": [
    "run_local = False\n",
    "n_workers_init = 6\n",
    "\n",
    "if run_local:\n",
    "    client = Client()\n",
    "    client.cluster.scale(n_workers_init)\n",
    "    time.sleep(0.5) # allow client time to respond to scaling before display\n",
    "else:\n",
    "    # note the specifed walltime, don't use too much or too little, 01:30:00 is a good baseline, \n",
    "    # you just need enough time to finish 'gathering' to props_all before the jobs die\n",
    "    # you can always spin up more jobs later\n",
    "    # you will launch many jobs, so you don't need multiple processes, a lot of ram or multiple threads\n",
    "#     cluster = SLURMCluster(queue=\"short\",walltime='01:30:00',job_cpu=1,job_mem='6G',threads=1,processes=1,memory='6GB')\n",
    "    \n",
    "    #SHORT RUNS\n",
    "#     cluster = SLURMCluster(queue=\"short\",walltime='01:30:00',job_cpu=1,job_mem='6G',cores=1,processes=1,memory='6G')\n",
    "    cluster = SLURMCluster(queue=\"short\",walltime='08:00:00',job_cpu=1,job_mem='6G',cores=1,processes=1,memory='6G')\n",
    "    cluster.start_workers(n_workers_init)\n",
    "    client = Client(cluster)\n",
    "\n",
    "client"
   ]
  },
  {
   "cell_type": "markdown",
   "metadata": {},
   "source": [
    "## Simulation functions"
   ]
  },
  {
   "cell_type": "code",
   "execution_count": 7,
   "metadata": {},
   "outputs": [],
   "source": [
    "# DEFINE DEFAULT VALUES\n",
    "mTs = 3\n",
    "mTa = 3\n",
    "sTs = 0\n",
    "sTa = 0\n",
    "\n",
    "def growth_det(t, N0=1):\n",
    "    '''\n",
    "    Grow cells exponentially for a time t\n",
    "        t: Growth time\n",
    "        N0: Initial population\n",
    "    '''\n",
    "    return N0*np.exp(t)\n",
    "\n",
    "def sample_Ts(mTs=mTs, sTs=sTs, size=1, use_cv = False):\n",
    "    '''\n",
    "    Sample lag times for the initial population according to a Gaussian distribution of lag times\n",
    "        mTs: Mean lag time\n",
    "        sTs: Standard deviation of lag times\n",
    "        size: Initial population number\n",
    "    '''\n",
    "    if use_cv:\n",
    "        return np.random.normal(loc=mTs, scale=sTs*mTs, size=size)\n",
    "    else:\n",
    "        \n",
    "        return np.random.normal(loc=mTs, scale=sTs, size=size)\n",
    "\n",
    "def sample_Ta(mTa=mTa, sTa=sTa, use_cv = False):\n",
    "    '''\n",
    "    Sample times of AB exposure for one round of growth according to a normal distribution\n",
    "        mTa: Mean duration of AB\n",
    "        sTs: Standard deviation of the duration of AB\n",
    "    '''\n",
    "    if use_cv:\n",
    "        return np.random.normal(loc=mTa, scale=sTa*mTa)\n",
    "    else:\n",
    "        return np.random.normal(loc=mTa, scale=sTa)\n",
    "\n",
    "def single_growth_cycle_stoch(Ts, ta, tg):\n",
    "    '''\n",
    "    Runs a single growth cycle for a given set of lag times Ts, a sampled AB duration ta,\n",
    "    and a growth time tg\n",
    "        Ts (array-like): List of lag times\n",
    "        ta: antibiotic duration\n",
    "        tg: growth time\n",
    "    '''\n",
    "    # select survivors i.e. cells for which Ts > Ta\n",
    "    Ts_surv = Ts[np.where(Ts > ta)[0]]\n",
    "    n_surv = len(Ts_surv)\n",
    "    # select the cells that survived and started growing early enough to grow\n",
    "    Ts_grow = Ts_surv[np.where(Ts_surv < ta+tg)[0]]\n",
    "    n_grow = len(Ts_grow)\n",
    "    # The ones that survived the AB but did not start growing only add 1 to the final count\n",
    "    n_ngrow = n_surv - n_grow\n",
    "    n = n_ngrow\n",
    "    # Each parent cell contributes with a lineage that grows exponentially for a time tg-ts\n",
    "    for ts in Ts_grow:\n",
    "        n += growth_det(t=tg-ts)\n",
    "    return n, n_surv, n_ngrow\n",
    "\n",
    "def many_growth_cycles_stochTa_full(mTs, sTs, mTa, sTa, k=1000, n0=1000, tg=3, use_cvss = False,\n",
    "                                   use_cva = False):\n",
    "    '''\n",
    "    Run many growth cycles given the statistics for lag and AB times.\n",
    "    At each cycle, lag times and AB times are sampled\n",
    "    FULL_VERSION: Returns the entire array of final population\n",
    "    '''\n",
    "    N = np.zeros(k)\n",
    "    N_surv = np.zeros(k)\n",
    "    N_ngrow = np.zeros(k)\n",
    "    for i in range(k):\n",
    "        ta = sample_Ta(mTa=mTa, sTa=sTa, use_cv = use_cva)\n",
    "        Ts = sample_Ts(mTs=mTs, sTs=sTs, size=n0, use_cv=use_cvs)\n",
    "        N[i], N_surv[i], N_ngrow[i] = single_growth_cycle_stoch(Ts=Ts, ta=ta, tg=tg)\n",
    "    return N, N_surv, N_ngrow\n",
    "\n",
    "def many_growth_cycles_stochTa_short(mTs, sTs=0.5, mTa=3, sTa=0, k=1000, n0=100, tg=8, use_cvs = False,\n",
    "                                    use_cva = False):\n",
    "    '''\n",
    "    Run many growth cycles given the statistics for lag and AB times.\n",
    "    At each cycle, lag times and AB times are sampled\n",
    "    SHORT_VERSION: Returns the means and variances of the final population\n",
    "    '''\n",
    "    n_sum, n_surv_sum, n_ngrow_sum = 0, 0, 0\n",
    "    n2_sum, n_surv2_sum, n_ngrow2_sum = 0, 0, 0\n",
    "    \n",
    "    for _ in range(k):\n",
    "        ta = sample_Ta(mTa=mTa, sTa=sTa, use_cv=use_cva)\n",
    "        Ts = sample_Ts(mTs=mTs, sTs=sTs, size=n0, use_cv = use_cvs)\n",
    "        n, n_surv, n_ngrow = single_growth_cycle_stoch(Ts=Ts, ta=ta, tg=tg)\n",
    "        \n",
    "        n_sum, n_surv_sum, N_grow_sum = n_sum+n, n_surv_sum+n_surv, n_ngrow_sum+n_ngrow\n",
    "        n2_sum, n_surv2_sum, n_ngrow2_sum = n2_sum+n**2, n_surv2_sum+n_surv**2, n_ngrow2_sum+n_ngrow**2\n",
    "            \n",
    "    mN, mN_surv, mN_ngrow = n_sum/k, n_surv_sum/k, n_ngrow_sum/k\n",
    "    vN, vN_surv, vN_ngrow = n2_sum/k-mN**2, n_surv2_sum/k-mN_surv**2, n_ngrow2_sum/k-mN_ngrow**2\n",
    "    return mN, mN_surv, mN_ngrow, vN, vN_surv, vN_ngrow\n",
    "\n",
    "def sample_Ts_statistics(MTs, STs=[0.5], mTa=3, sTa=0, k=1000, n0=100, tg=8, use_cvs = False, use_cva=False):\n",
    "    '''\n",
    "    Run many growth cycles FOR DIFFERENT VALUES OF THE\n",
    "    STATISTICS FOR THE LAG TIMES. \n",
    "    SHORT_VERSION: Returns the entire array of final population\n",
    "    '''\n",
    "    # TODO: Initialize arrays to store what you want\n",
    "    MN = np.zeros((len(MTs), len(STs)))\n",
    "    VN = np.zeros((len(MTs), len(STs)))\n",
    "    for i in range(len(MTs)):\n",
    "        mTs = MTs[i]\n",
    "        for j in range(len(STs)):\n",
    "            sTs = STs[j]\n",
    "            # TODO: Modify to keep what you want\n",
    "            mN, _, _, vN, _, _ = many_growth_cycles_stochTa_short(mTs=mTs, sTs=sTs, mTa=mTa,\n",
    "                                                                  sTa=sTa, k=k, n0=n0, tg=tg,\n",
    "                                                                 use_cvs=use_cvs, use_cva=use_cva)\n",
    "            MN[i,j] = mN\n",
    "            VN[i,j] = vN\n",
    "    return MN, VN\n",
    "\n",
    "def sample_Ts_long(MTs, STs, mTa, sTa, k=1000, n0=1000, tg=3, use_cvs=False, use_cva=False):\n",
    "    '''\n",
    "    Run many growth cycles FOR DIFFERENT VALUES OF THE\n",
    "    STATISTICS FOR THE LAG TIMES.\n",
    "    LONG_VERSION: Returns the entire array of final population\n",
    "    Returns:\n",
    "        \n",
    "    '''\n",
    "    # TODO: Initialize arrays to store what you want\n",
    "    NN, N_SURV, N_NGROW = np.zeros((len(MTs), len(STs), k)), np.zeros((len(MTs), len(STs), k)), np.zeros((len(MTs), len(STs), k))\n",
    "    for i in range(len(MTs)):\n",
    "        mTs = MTs[i]\n",
    "        for j in range(len(STs)):\n",
    "            sTs = STs[j]\n",
    "            # TODO: Modify to keep what you want\n",
    "            N, N_surv, N_ngrow = many_growth_cycles_stochTa_full(mTs=mTs, sTs=sTs, mTa=mTa,\n",
    "                                                                  sTa=sTa, k=k, n0=n0, tg=tg,\n",
    "                                                                use_cvs=use_cvs, use_cva=use_cva) \n",
    "            NN[i,j,:] = N\n",
    "            N_SURV[i,j,:] = N_surv\n",
    "            N_NGROW[i,j,:] = N_ngrow\n",
    "            \n",
    "    return NN, N_SURV, N_NGROW\n"
   ]
  },
  {
   "cell_type": "markdown",
   "metadata": {},
   "source": [
    "## Plotting/saving functions"
   ]
  },
  {
   "cell_type": "code",
   "execution_count": 8,
   "metadata": {},
   "outputs": [],
   "source": [
    "def plot_heatmap(MTs, STs, MN, mTa):\n",
    "    \n",
    "    #Indices of E(T_s) values for max fitness as a function of std\n",
    "    max_MTs_vs_std = np.argmax(MN, axis=0)\n",
    "    #Indices of std(T_s) values for max fitness as a function of E(T_s)\n",
    "    max_STs_vs_mean = np.argmax(MN, axis=1)\n",
    "\n",
    "    plt.figure(figsize=(8,5))\n",
    "    y_conv = np.arange(len(max_MTs_vs_std))\n",
    "    plt.plot(max_MTs_vs_std+0.5, y_conv+0.5, '--')\n",
    "    x_conv = np.arange(len(max_STs_vs_mean))\n",
    "    plt.plot(x_conv+0.5, max_STs_vs_mean+0.5, '--')\n",
    "    # ax = sns.heatmap(MN.T/n0, yticklabels=STs, xticklabels=MTs)\n",
    "    ax = sns.heatmap(MN.T/n0, yticklabels=False, xticklabels=False)\n",
    "    plt.vlines(np.where(abs(MTs-3) <= 0.05/2)[0][0]+0.5, 0,len(y_conv), color='r', linestyles='--')\n",
    "    ax.invert_yaxis()\n",
    "    plt.ylabel('Standard deviation')\n",
    "    plt.xlabel('Mean lag time')\n",
    "    plt.title('$t_a=$'+str(mTa))\n",
    "    \n",
    "\n",
    "def save_experiment(exp_key, res, kwargs, kwargs_s):\n",
    "\n",
    "    # Save MTs and STs\n",
    "    np.save('./exp_'+exp_key, res)\n",
    "    # Save metadata (parameters)\n",
    "    file = open('./exp_'+exp_key+'_meta.csv', \"w\")\n",
    "    w = csv.writer(file)\n",
    "    for key, val in kwargs.items():\n",
    "        w.writerow([key, val])\n",
    "    for key, val in kwargs_s.items():\n",
    "        w.writerow([key, val])\n",
    "    file.close()"
   ]
  },
  {
   "cell_type": "markdown",
   "metadata": {},
   "source": [
    "# Run single experiment"
   ]
  },
  {
   "cell_type": "code",
   "execution_count": 6,
   "metadata": {
    "collapsed": true
   },
   "outputs": [
    {
     "ename": "ValueError",
     "evalue": "The truth value of an array with more than one element is ambiguous. Use a.any() or a.all()",
     "output_type": "error",
     "traceback": [
      "\u001b[0;31m---------------------------------------------------------------------------\u001b[0m",
      "\u001b[0;31mValueError\u001b[0m                                Traceback (most recent call last)",
      "\u001b[0;32m<ipython-input-6-361cd23b3e36>\u001b[0m in \u001b[0;36m<module>\u001b[0;34m\u001b[0m\n\u001b[1;32m     34\u001b[0m \u001b[0mall_futures\u001b[0m \u001b[0;34m=\u001b[0m \u001b[0;34m[\u001b[0m\u001b[0mfu\u001b[0m \u001b[0;32mfor\u001b[0m \u001b[0msublist\u001b[0m \u001b[0;32min\u001b[0m \u001b[0mfutures\u001b[0m \u001b[0;32mfor\u001b[0m \u001b[0mfu\u001b[0m \u001b[0;32min\u001b[0m \u001b[0msublist\u001b[0m\u001b[0;34m]\u001b[0m\u001b[0;34m\u001b[0m\u001b[0;34m\u001b[0m\u001b[0m\n\u001b[1;32m     35\u001b[0m \u001b[0mdask\u001b[0m\u001b[0;34m.\u001b[0m\u001b[0mdistributed\u001b[0m\u001b[0;34m.\u001b[0m\u001b[0mprogress\u001b[0m\u001b[0;34m(\u001b[0m\u001b[0mall_futures\u001b[0m\u001b[0;34m)\u001b[0m\u001b[0;34m\u001b[0m\u001b[0;34m\u001b[0m\u001b[0m\n\u001b[0;32m---> 36\u001b[0;31m \u001b[0mres\u001b[0m \u001b[0;34m=\u001b[0m \u001b[0mnp\u001b[0m\u001b[0;34m.\u001b[0m\u001b[0marray\u001b[0m\u001b[0;34m(\u001b[0m\u001b[0mclient\u001b[0m\u001b[0;34m.\u001b[0m\u001b[0mgather\u001b[0m\u001b[0;34m(\u001b[0m\u001b[0mfutures\u001b[0m\u001b[0;34m)\u001b[0m\u001b[0;34m)\u001b[0m\u001b[0;34m\u001b[0m\u001b[0;34m\u001b[0m\u001b[0m\n\u001b[0m\u001b[1;32m     37\u001b[0m \u001b[0mexp_key\u001b[0m \u001b[0;34m=\u001b[0m \u001b[0;34m'012'\u001b[0m \u001b[0;31m# MODIFY SO YOU DON'T OVERWRITE!!!!!\u001b[0m\u001b[0;34m\u001b[0m\u001b[0;34m\u001b[0m\u001b[0m\n\u001b[1;32m     38\u001b[0m \u001b[0msave_experiment\u001b[0m\u001b[0;34m(\u001b[0m\u001b[0mexp_key\u001b[0m\u001b[0;34m,\u001b[0m \u001b[0mres\u001b[0m\u001b[0;34m,\u001b[0m \u001b[0mkwargs\u001b[0m\u001b[0;34m,\u001b[0m \u001b[0mkwargs_s\u001b[0m\u001b[0;34m)\u001b[0m\u001b[0;34m\u001b[0m\u001b[0;34m\u001b[0m\u001b[0m\n",
      "\u001b[0;32m~/anaconda3/lib/python3.7/site-packages/distributed/client.py\u001b[0m in \u001b[0;36mgather\u001b[0;34m(self, futures, errors, maxsize, direct, asynchronous)\u001b[0m\n\u001b[1;32m   1654\u001b[0m             return self.sync(self._gather, futures, errors=errors,\n\u001b[1;32m   1655\u001b[0m                              \u001b[0mdirect\u001b[0m\u001b[0;34m=\u001b[0m\u001b[0mdirect\u001b[0m\u001b[0;34m,\u001b[0m \u001b[0mlocal_worker\u001b[0m\u001b[0;34m=\u001b[0m\u001b[0mlocal_worker\u001b[0m\u001b[0;34m,\u001b[0m\u001b[0;34m\u001b[0m\u001b[0;34m\u001b[0m\u001b[0m\n\u001b[0;32m-> 1656\u001b[0;31m                              asynchronous=asynchronous)\n\u001b[0m\u001b[1;32m   1657\u001b[0m \u001b[0;34m\u001b[0m\u001b[0m\n\u001b[1;32m   1658\u001b[0m     \u001b[0;34m@\u001b[0m\u001b[0mgen\u001b[0m\u001b[0;34m.\u001b[0m\u001b[0mcoroutine\u001b[0m\u001b[0;34m\u001b[0m\u001b[0;34m\u001b[0m\u001b[0m\n",
      "\u001b[0;32m~/anaconda3/lib/python3.7/site-packages/distributed/client.py\u001b[0m in \u001b[0;36msync\u001b[0;34m(self, func, *args, **kwargs)\u001b[0m\n\u001b[1;32m    674\u001b[0m             \u001b[0;32mreturn\u001b[0m \u001b[0mfuture\u001b[0m\u001b[0;34m\u001b[0m\u001b[0;34m\u001b[0m\u001b[0m\n\u001b[1;32m    675\u001b[0m         \u001b[0;32melse\u001b[0m\u001b[0;34m:\u001b[0m\u001b[0;34m\u001b[0m\u001b[0;34m\u001b[0m\u001b[0m\n\u001b[0;32m--> 676\u001b[0;31m             \u001b[0;32mreturn\u001b[0m \u001b[0msync\u001b[0m\u001b[0;34m(\u001b[0m\u001b[0mself\u001b[0m\u001b[0;34m.\u001b[0m\u001b[0mloop\u001b[0m\u001b[0;34m,\u001b[0m \u001b[0mfunc\u001b[0m\u001b[0;34m,\u001b[0m \u001b[0;34m*\u001b[0m\u001b[0margs\u001b[0m\u001b[0;34m,\u001b[0m \u001b[0;34m**\u001b[0m\u001b[0mkwargs\u001b[0m\u001b[0;34m)\u001b[0m\u001b[0;34m\u001b[0m\u001b[0;34m\u001b[0m\u001b[0m\n\u001b[0m\u001b[1;32m    677\u001b[0m \u001b[0;34m\u001b[0m\u001b[0m\n\u001b[1;32m    678\u001b[0m     \u001b[0;32mdef\u001b[0m \u001b[0m__repr__\u001b[0m\u001b[0;34m(\u001b[0m\u001b[0mself\u001b[0m\u001b[0;34m)\u001b[0m\u001b[0;34m:\u001b[0m\u001b[0;34m\u001b[0m\u001b[0;34m\u001b[0m\u001b[0m\n",
      "\u001b[0;32m~/anaconda3/lib/python3.7/site-packages/distributed/utils.py\u001b[0m in \u001b[0;36msync\u001b[0;34m(loop, func, *args, **kwargs)\u001b[0m\n\u001b[1;32m    280\u001b[0m             \u001b[0me\u001b[0m\u001b[0;34m.\u001b[0m\u001b[0mwait\u001b[0m\u001b[0;34m(\u001b[0m\u001b[0;36m10\u001b[0m\u001b[0;34m)\u001b[0m\u001b[0;34m\u001b[0m\u001b[0;34m\u001b[0m\u001b[0m\n\u001b[1;32m    281\u001b[0m     \u001b[0;32mif\u001b[0m \u001b[0merror\u001b[0m\u001b[0;34m[\u001b[0m\u001b[0;36m0\u001b[0m\u001b[0;34m]\u001b[0m\u001b[0;34m:\u001b[0m\u001b[0;34m\u001b[0m\u001b[0;34m\u001b[0m\u001b[0m\n\u001b[0;32m--> 282\u001b[0;31m         \u001b[0msix\u001b[0m\u001b[0;34m.\u001b[0m\u001b[0mreraise\u001b[0m\u001b[0;34m(\u001b[0m\u001b[0;34m*\u001b[0m\u001b[0merror\u001b[0m\u001b[0;34m[\u001b[0m\u001b[0;36m0\u001b[0m\u001b[0;34m]\u001b[0m\u001b[0;34m)\u001b[0m\u001b[0;34m\u001b[0m\u001b[0;34m\u001b[0m\u001b[0m\n\u001b[0m\u001b[1;32m    283\u001b[0m     \u001b[0;32melse\u001b[0m\u001b[0;34m:\u001b[0m\u001b[0;34m\u001b[0m\u001b[0;34m\u001b[0m\u001b[0m\n\u001b[1;32m    284\u001b[0m         \u001b[0;32mreturn\u001b[0m \u001b[0mresult\u001b[0m\u001b[0;34m[\u001b[0m\u001b[0;36m0\u001b[0m\u001b[0;34m]\u001b[0m\u001b[0;34m\u001b[0m\u001b[0;34m\u001b[0m\u001b[0m\n",
      "\u001b[0;32m~/anaconda3/lib/python3.7/site-packages/six.py\u001b[0m in \u001b[0;36mreraise\u001b[0;34m(tp, value, tb)\u001b[0m\n\u001b[1;32m    691\u001b[0m             \u001b[0;32mif\u001b[0m \u001b[0mvalue\u001b[0m\u001b[0;34m.\u001b[0m\u001b[0m__traceback__\u001b[0m \u001b[0;32mis\u001b[0m \u001b[0;32mnot\u001b[0m \u001b[0mtb\u001b[0m\u001b[0;34m:\u001b[0m\u001b[0;34m\u001b[0m\u001b[0;34m\u001b[0m\u001b[0m\n\u001b[1;32m    692\u001b[0m                 \u001b[0;32mraise\u001b[0m \u001b[0mvalue\u001b[0m\u001b[0;34m.\u001b[0m\u001b[0mwith_traceback\u001b[0m\u001b[0;34m(\u001b[0m\u001b[0mtb\u001b[0m\u001b[0;34m)\u001b[0m\u001b[0;34m\u001b[0m\u001b[0;34m\u001b[0m\u001b[0m\n\u001b[0;32m--> 693\u001b[0;31m             \u001b[0;32mraise\u001b[0m \u001b[0mvalue\u001b[0m\u001b[0;34m\u001b[0m\u001b[0;34m\u001b[0m\u001b[0m\n\u001b[0m\u001b[1;32m    694\u001b[0m         \u001b[0;32mfinally\u001b[0m\u001b[0;34m:\u001b[0m\u001b[0;34m\u001b[0m\u001b[0;34m\u001b[0m\u001b[0m\n\u001b[1;32m    695\u001b[0m             \u001b[0mvalue\u001b[0m \u001b[0;34m=\u001b[0m \u001b[0;32mNone\u001b[0m\u001b[0;34m\u001b[0m\u001b[0;34m\u001b[0m\u001b[0m\n",
      "\u001b[0;32m~/anaconda3/lib/python3.7/site-packages/distributed/utils.py\u001b[0m in \u001b[0;36mf\u001b[0;34m()\u001b[0m\n\u001b[1;32m    265\u001b[0m             \u001b[0;32mif\u001b[0m \u001b[0mtimeout\u001b[0m \u001b[0;32mis\u001b[0m \u001b[0;32mnot\u001b[0m \u001b[0;32mNone\u001b[0m\u001b[0;34m:\u001b[0m\u001b[0;34m\u001b[0m\u001b[0;34m\u001b[0m\u001b[0m\n\u001b[1;32m    266\u001b[0m                 \u001b[0mfuture\u001b[0m \u001b[0;34m=\u001b[0m \u001b[0mgen\u001b[0m\u001b[0;34m.\u001b[0m\u001b[0mwith_timeout\u001b[0m\u001b[0;34m(\u001b[0m\u001b[0mtimedelta\u001b[0m\u001b[0;34m(\u001b[0m\u001b[0mseconds\u001b[0m\u001b[0;34m=\u001b[0m\u001b[0mtimeout\u001b[0m\u001b[0;34m)\u001b[0m\u001b[0;34m,\u001b[0m \u001b[0mfuture\u001b[0m\u001b[0;34m)\u001b[0m\u001b[0;34m\u001b[0m\u001b[0;34m\u001b[0m\u001b[0m\n\u001b[0;32m--> 267\u001b[0;31m             \u001b[0mresult\u001b[0m\u001b[0;34m[\u001b[0m\u001b[0;36m0\u001b[0m\u001b[0;34m]\u001b[0m \u001b[0;34m=\u001b[0m \u001b[0;32myield\u001b[0m \u001b[0mfuture\u001b[0m\u001b[0;34m\u001b[0m\u001b[0;34m\u001b[0m\u001b[0m\n\u001b[0m\u001b[1;32m    268\u001b[0m         \u001b[0;32mexcept\u001b[0m \u001b[0mException\u001b[0m \u001b[0;32mas\u001b[0m \u001b[0mexc\u001b[0m\u001b[0;34m:\u001b[0m\u001b[0;34m\u001b[0m\u001b[0;34m\u001b[0m\u001b[0m\n\u001b[1;32m    269\u001b[0m             \u001b[0merror\u001b[0m\u001b[0;34m[\u001b[0m\u001b[0;36m0\u001b[0m\u001b[0;34m]\u001b[0m \u001b[0;34m=\u001b[0m \u001b[0msys\u001b[0m\u001b[0;34m.\u001b[0m\u001b[0mexc_info\u001b[0m\u001b[0;34m(\u001b[0m\u001b[0;34m)\u001b[0m\u001b[0;34m\u001b[0m\u001b[0;34m\u001b[0m\u001b[0m\n",
      "\u001b[0;32m~/anaconda3/lib/python3.7/site-packages/tornado/gen.py\u001b[0m in \u001b[0;36mrun\u001b[0;34m(self)\u001b[0m\n\u001b[1;32m    727\u001b[0m \u001b[0;34m\u001b[0m\u001b[0m\n\u001b[1;32m    728\u001b[0m                     \u001b[0;32mtry\u001b[0m\u001b[0;34m:\u001b[0m\u001b[0;34m\u001b[0m\u001b[0;34m\u001b[0m\u001b[0m\n\u001b[0;32m--> 729\u001b[0;31m                         \u001b[0mvalue\u001b[0m \u001b[0;34m=\u001b[0m \u001b[0mfuture\u001b[0m\u001b[0;34m.\u001b[0m\u001b[0mresult\u001b[0m\u001b[0;34m(\u001b[0m\u001b[0;34m)\u001b[0m\u001b[0;34m\u001b[0m\u001b[0;34m\u001b[0m\u001b[0m\n\u001b[0m\u001b[1;32m    730\u001b[0m                     \u001b[0;32mexcept\u001b[0m \u001b[0mException\u001b[0m\u001b[0;34m:\u001b[0m\u001b[0;34m\u001b[0m\u001b[0;34m\u001b[0m\u001b[0m\n\u001b[1;32m    731\u001b[0m                         \u001b[0mexc_info\u001b[0m \u001b[0;34m=\u001b[0m \u001b[0msys\u001b[0m\u001b[0;34m.\u001b[0m\u001b[0mexc_info\u001b[0m\u001b[0;34m(\u001b[0m\u001b[0;34m)\u001b[0m\u001b[0;34m\u001b[0m\u001b[0;34m\u001b[0m\u001b[0m\n",
      "\u001b[0;32m~/anaconda3/lib/python3.7/site-packages/tornado/gen.py\u001b[0m in \u001b[0;36mrun\u001b[0;34m(self)\u001b[0m\n\u001b[1;32m    734\u001b[0m                     \u001b[0;32mif\u001b[0m \u001b[0mexc_info\u001b[0m \u001b[0;32mis\u001b[0m \u001b[0;32mnot\u001b[0m \u001b[0;32mNone\u001b[0m\u001b[0;34m:\u001b[0m\u001b[0;34m\u001b[0m\u001b[0;34m\u001b[0m\u001b[0m\n\u001b[1;32m    735\u001b[0m                         \u001b[0;32mtry\u001b[0m\u001b[0;34m:\u001b[0m\u001b[0;34m\u001b[0m\u001b[0;34m\u001b[0m\u001b[0m\n\u001b[0;32m--> 736\u001b[0;31m                             \u001b[0myielded\u001b[0m \u001b[0;34m=\u001b[0m \u001b[0mself\u001b[0m\u001b[0;34m.\u001b[0m\u001b[0mgen\u001b[0m\u001b[0;34m.\u001b[0m\u001b[0mthrow\u001b[0m\u001b[0;34m(\u001b[0m\u001b[0;34m*\u001b[0m\u001b[0mexc_info\u001b[0m\u001b[0;34m)\u001b[0m  \u001b[0;31m# type: ignore\u001b[0m\u001b[0;34m\u001b[0m\u001b[0;34m\u001b[0m\u001b[0m\n\u001b[0m\u001b[1;32m    737\u001b[0m                         \u001b[0;32mfinally\u001b[0m\u001b[0;34m:\u001b[0m\u001b[0;34m\u001b[0m\u001b[0;34m\u001b[0m\u001b[0m\n\u001b[1;32m    738\u001b[0m                             \u001b[0;31m# Break up a reference to itself\u001b[0m\u001b[0;34m\u001b[0m\u001b[0;34m\u001b[0m\u001b[0;34m\u001b[0m\u001b[0m\n",
      "\u001b[0;32m~/anaconda3/lib/python3.7/site-packages/distributed/client.py\u001b[0m in \u001b[0;36m_gather\u001b[0;34m(self, futures, errors, direct, local_worker)\u001b[0m\n\u001b[1;32m   1495\u001b[0m                             six.reraise(type(exception),\n\u001b[1;32m   1496\u001b[0m                                         \u001b[0mexception\u001b[0m\u001b[0;34m,\u001b[0m\u001b[0;34m\u001b[0m\u001b[0;34m\u001b[0m\u001b[0m\n\u001b[0;32m-> 1497\u001b[0;31m                                         traceback)\n\u001b[0m\u001b[1;32m   1498\u001b[0m                     \u001b[0;32mif\u001b[0m \u001b[0merrors\u001b[0m \u001b[0;34m==\u001b[0m \u001b[0;34m'skip'\u001b[0m\u001b[0;34m:\u001b[0m\u001b[0;34m\u001b[0m\u001b[0;34m\u001b[0m\u001b[0m\n\u001b[1;32m   1499\u001b[0m                         \u001b[0mbad_keys\u001b[0m\u001b[0;34m.\u001b[0m\u001b[0madd\u001b[0m\u001b[0;34m(\u001b[0m\u001b[0mkey\u001b[0m\u001b[0;34m)\u001b[0m\u001b[0;34m\u001b[0m\u001b[0;34m\u001b[0m\u001b[0m\n",
      "\u001b[0;32m~/anaconda3/lib/python3.7/site-packages/six.py\u001b[0m in \u001b[0;36mreraise\u001b[0;34m(tp, value, tb)\u001b[0m\n\u001b[1;32m    690\u001b[0m                 \u001b[0mvalue\u001b[0m \u001b[0;34m=\u001b[0m \u001b[0mtp\u001b[0m\u001b[0;34m(\u001b[0m\u001b[0;34m)\u001b[0m\u001b[0;34m\u001b[0m\u001b[0;34m\u001b[0m\u001b[0m\n\u001b[1;32m    691\u001b[0m             \u001b[0;32mif\u001b[0m \u001b[0mvalue\u001b[0m\u001b[0;34m.\u001b[0m\u001b[0m__traceback__\u001b[0m \u001b[0;32mis\u001b[0m \u001b[0;32mnot\u001b[0m \u001b[0mtb\u001b[0m\u001b[0;34m:\u001b[0m\u001b[0;34m\u001b[0m\u001b[0;34m\u001b[0m\u001b[0m\n\u001b[0;32m--> 692\u001b[0;31m                 \u001b[0;32mraise\u001b[0m \u001b[0mvalue\u001b[0m\u001b[0;34m.\u001b[0m\u001b[0mwith_traceback\u001b[0m\u001b[0;34m(\u001b[0m\u001b[0mtb\u001b[0m\u001b[0;34m)\u001b[0m\u001b[0;34m\u001b[0m\u001b[0;34m\u001b[0m\u001b[0m\n\u001b[0m\u001b[1;32m    693\u001b[0m             \u001b[0;32mraise\u001b[0m \u001b[0mvalue\u001b[0m\u001b[0;34m\u001b[0m\u001b[0;34m\u001b[0m\u001b[0m\n\u001b[1;32m    694\u001b[0m         \u001b[0;32mfinally\u001b[0m\u001b[0;34m:\u001b[0m\u001b[0;34m\u001b[0m\u001b[0;34m\u001b[0m\u001b[0m\n",
      "\u001b[0;32m<ipython-input-6-361cd23b3e36>\u001b[0m in \u001b[0;36mPAR_many_growth_cycles_stochTa_short\u001b[0;34m()\u001b[0m\n\u001b[1;32m     29\u001b[0m \u001b[0;32mfor\u001b[0m \u001b[0msTs\u001b[0m \u001b[0;32min\u001b[0m \u001b[0mSTs\u001b[0m\u001b[0;34m:\u001b[0m\u001b[0;34m\u001b[0m\u001b[0;34m\u001b[0m\u001b[0m\n\u001b[1;32m     30\u001b[0m     \u001b[0;32mdef\u001b[0m \u001b[0mPAR_many_growth_cycles_stochTa_short\u001b[0m\u001b[0;34m(\u001b[0m\u001b[0mmTs\u001b[0m\u001b[0;34m)\u001b[0m\u001b[0;34m:\u001b[0m\u001b[0;34m\u001b[0m\u001b[0;34m\u001b[0m\u001b[0m\n\u001b[0;32m---> 31\u001b[0;31m         \u001b[0;32mreturn\u001b[0m \u001b[0mmany_growth_cycles_stochTa_short\u001b[0m\u001b[0;34m(\u001b[0m\u001b[0mmTs\u001b[0m\u001b[0;34m,\u001b[0m \u001b[0msTs\u001b[0m\u001b[0;34m,\u001b[0m \u001b[0;34m**\u001b[0m\u001b[0mkwargs\u001b[0m\u001b[0;34m)\u001b[0m\u001b[0;34m\u001b[0m\u001b[0;34m\u001b[0m\u001b[0m\n\u001b[0m\u001b[1;32m     32\u001b[0m     \u001b[0mfut\u001b[0m \u001b[0;34m=\u001b[0m \u001b[0mclient\u001b[0m\u001b[0;34m.\u001b[0m\u001b[0mmap\u001b[0m\u001b[0;34m(\u001b[0m\u001b[0mPAR_many_growth_cycles_stochTa_short\u001b[0m\u001b[0;34m,\u001b[0m \u001b[0mMTs\u001b[0m\u001b[0;34m)\u001b[0m\u001b[0;34m\u001b[0m\u001b[0;34m\u001b[0m\u001b[0m\n\u001b[1;32m     33\u001b[0m     \u001b[0mfutures\u001b[0m\u001b[0;34m.\u001b[0m\u001b[0mappend\u001b[0m\u001b[0;34m(\u001b[0m\u001b[0mfut\u001b[0m\u001b[0;34m)\u001b[0m\u001b[0;34m\u001b[0m\u001b[0;34m\u001b[0m\u001b[0m\n",
      "\u001b[0;32m<ipython-input-5-daf0112234f5>\u001b[0m in \u001b[0;36mmany_growth_cycles_stochTa_short\u001b[0;34m()\u001b[0m\n\u001b[1;32m     87\u001b[0m     \u001b[0;32mfor\u001b[0m \u001b[0m_\u001b[0m \u001b[0;32min\u001b[0m \u001b[0mrange\u001b[0m\u001b[0;34m(\u001b[0m\u001b[0mk\u001b[0m\u001b[0;34m)\u001b[0m\u001b[0;34m:\u001b[0m\u001b[0;34m\u001b[0m\u001b[0;34m\u001b[0m\u001b[0m\n\u001b[1;32m     88\u001b[0m         \u001b[0mta\u001b[0m \u001b[0;34m=\u001b[0m \u001b[0msample_Ta\u001b[0m\u001b[0;34m(\u001b[0m\u001b[0mmTa\u001b[0m\u001b[0;34m=\u001b[0m\u001b[0mmTa\u001b[0m\u001b[0;34m,\u001b[0m \u001b[0msTa\u001b[0m\u001b[0;34m=\u001b[0m\u001b[0msTa\u001b[0m\u001b[0;34m,\u001b[0m \u001b[0muse_cv\u001b[0m\u001b[0;34m=\u001b[0m\u001b[0muse_cva\u001b[0m\u001b[0;34m)\u001b[0m\u001b[0;34m\u001b[0m\u001b[0;34m\u001b[0m\u001b[0m\n\u001b[0;32m---> 89\u001b[0;31m         \u001b[0mTs\u001b[0m \u001b[0;34m=\u001b[0m \u001b[0msample_Ts\u001b[0m\u001b[0;34m(\u001b[0m\u001b[0mmTs\u001b[0m\u001b[0;34m=\u001b[0m\u001b[0mmTs\u001b[0m\u001b[0;34m,\u001b[0m \u001b[0msTs\u001b[0m\u001b[0;34m=\u001b[0m\u001b[0msTs\u001b[0m\u001b[0;34m,\u001b[0m \u001b[0msize\u001b[0m\u001b[0;34m=\u001b[0m\u001b[0mn0\u001b[0m\u001b[0;34m,\u001b[0m \u001b[0muse_cv\u001b[0m \u001b[0;34m=\u001b[0m \u001b[0muse_cvs\u001b[0m\u001b[0;34m)\u001b[0m\u001b[0;34m\u001b[0m\u001b[0;34m\u001b[0m\u001b[0m\n\u001b[0m\u001b[1;32m     90\u001b[0m         \u001b[0mn\u001b[0m\u001b[0;34m,\u001b[0m \u001b[0mn_surv\u001b[0m\u001b[0;34m,\u001b[0m \u001b[0mn_ngrow\u001b[0m \u001b[0;34m=\u001b[0m \u001b[0msingle_growth_cycle_stoch\u001b[0m\u001b[0;34m(\u001b[0m\u001b[0mTs\u001b[0m\u001b[0;34m=\u001b[0m\u001b[0mTs\u001b[0m\u001b[0;34m,\u001b[0m \u001b[0mta\u001b[0m\u001b[0;34m=\u001b[0m\u001b[0mta\u001b[0m\u001b[0;34m,\u001b[0m \u001b[0mtg\u001b[0m\u001b[0;34m=\u001b[0m\u001b[0mtg\u001b[0m\u001b[0;34m)\u001b[0m\u001b[0;34m\u001b[0m\u001b[0;34m\u001b[0m\u001b[0m\n\u001b[1;32m     91\u001b[0m \u001b[0;34m\u001b[0m\u001b[0m\n",
      "\u001b[0;32m<ipython-input-5-daf0112234f5>\u001b[0m in \u001b[0;36msample_Ts\u001b[0;34m()\u001b[0m\n\u001b[1;32m     24\u001b[0m     \u001b[0;32melse\u001b[0m\u001b[0;34m:\u001b[0m\u001b[0;34m\u001b[0m\u001b[0;34m\u001b[0m\u001b[0m\n\u001b[1;32m     25\u001b[0m \u001b[0;34m\u001b[0m\u001b[0m\n\u001b[0;32m---> 26\u001b[0;31m         \u001b[0;32mreturn\u001b[0m \u001b[0mmax\u001b[0m\u001b[0;34m(\u001b[0m\u001b[0mnp\u001b[0m\u001b[0;34m.\u001b[0m\u001b[0mrandom\u001b[0m\u001b[0;34m.\u001b[0m\u001b[0mnormal\u001b[0m\u001b[0;34m(\u001b[0m\u001b[0mloc\u001b[0m\u001b[0;34m=\u001b[0m\u001b[0mmTs\u001b[0m\u001b[0;34m,\u001b[0m \u001b[0mscale\u001b[0m\u001b[0;34m=\u001b[0m\u001b[0msTs\u001b[0m\u001b[0;34m,\u001b[0m \u001b[0msize\u001b[0m\u001b[0;34m=\u001b[0m\u001b[0msize\u001b[0m\u001b[0;34m)\u001b[0m\u001b[0;34m,\u001b[0m\u001b[0;36m0\u001b[0m\u001b[0;34m)\u001b[0m\u001b[0;34m\u001b[0m\u001b[0;34m\u001b[0m\u001b[0m\n\u001b[0m\u001b[1;32m     27\u001b[0m \u001b[0;34m\u001b[0m\u001b[0m\n\u001b[1;32m     28\u001b[0m \u001b[0;32mdef\u001b[0m \u001b[0msample_Ta\u001b[0m\u001b[0;34m(\u001b[0m\u001b[0mmTa\u001b[0m\u001b[0;34m=\u001b[0m\u001b[0mmTa\u001b[0m\u001b[0;34m,\u001b[0m \u001b[0msTa\u001b[0m\u001b[0;34m=\u001b[0m\u001b[0msTa\u001b[0m\u001b[0;34m,\u001b[0m \u001b[0muse_cv\u001b[0m \u001b[0;34m=\u001b[0m \u001b[0;32mFalse\u001b[0m\u001b[0;34m)\u001b[0m\u001b[0;34m:\u001b[0m\u001b[0;34m\u001b[0m\u001b[0;34m\u001b[0m\u001b[0m\n",
      "\u001b[0;31mValueError\u001b[0m: The truth value of an array with more than one element is ambiguous. Use a.any() or a.all()"
     ]
    }
   ],
   "source": [
    "MTs_start = 1\n",
    "MTs_stop = 8\n",
    "MTs_step = 0.05\n",
    "\n",
    "STs_start = 0\n",
    "STs_stop = 2\n",
    "STs_step = 0.05\n",
    "\n",
    "kwargs_s = {'MTs_start':MTs_start, 'MTs_stop':MTs_stop, 'MTs_step':MTs_step,\n",
    "            'STs_start':STs_start,'STs_stop':STs_stop,'STs_step':STs_step}\n",
    "\n",
    "MTs = np.arange(MTs_start,MTs_stop,MTs_step)\n",
    "STs = np.arange(STs_start,STs_stop,STs_step)\n",
    "\n",
    "mTa = 3\n",
    "sTa = 1\n",
    "k = 10000\n",
    "n0 = 1000\n",
    "tg = 4\n",
    "# many_growth_cycles_stochTa_short(mTs, sTs=0.5, mTa=3, sTa=0, k=1000, n0=100, tg=8, use_cvs = False,\n",
    "          #                          use_cva = False)\n",
    "    \n",
    "kwargs = {'mTa':mTa, 'sTa':sTa, 'k':k, 'n0':n0, 'tg':tg}\n",
    "\n",
    "scale_workers = 50\n",
    "if scale_workers > 0:\n",
    "    cluster.scale(scale_workers)\n",
    "futures = []\n",
    "for sTs in STs:\n",
    "    def PAR_many_growth_cycles_stochTa_short(mTs):\n",
    "        return many_growth_cycles_stochTa_short(mTs, sTs, **kwargs)\n",
    "    fut = client.map(PAR_many_growth_cycles_stochTa_short, MTs)\n",
    "    futures.append(fut) \n",
    "all_futures = [fu for sublist in futures for fu in sublist]\n",
    "dask.distributed.progress(all_futures)\n",
    "res = np.array(client.gather(futures))\n",
    "exp_key = '012' # MODIFY SO YOU DON'T OVERWRITE!!!!!\n",
    "save_experiment(exp_key, res, kwargs, kwargs_s)"
   ]
  },
  {
   "cell_type": "code",
   "execution_count": null,
   "metadata": {},
   "outputs": [],
   "source": [
    "MN = res[:,:,0].T\n",
    "VN = res[:,:,3].T\n",
    "plot_heatmap(MTs, STs, MN, mTa)"
   ]
  },
  {
   "cell_type": "markdown",
   "metadata": {},
   "source": [
    "## Run multiple experiments"
   ]
  },
  {
   "cell_type": "markdown",
   "metadata": {},
   "source": [
    "Set parameters:\n",
    "BE CAREFUL! Set the keys so files are not overwritten."
   ]
  },
  {
   "cell_type": "code",
   "execution_count": 9,
   "metadata": {},
   "outputs": [
    {
     "data": {
      "text/plain": [
       "['300', '301', '302', '303', '304', '305', '306', '307', '308', '309', '310']"
      ]
     },
     "execution_count": 9,
     "metadata": {},
     "output_type": "execute_result"
    }
   ],
   "source": [
    "STa = np.arange(0,0.55,0.05)\n",
    "\n",
    "MTs_start = 1\n",
    "MTs_stop = 8\n",
    "MTs_step = 0.05\n",
    "\n",
    "STs_start = 0\n",
    "STs_stop = 2\n",
    "STs_step = 0.05\n",
    "\n",
    "kwargs_s = {'MTs_start':MTs_start, 'MTs_stop':MTs_stop, 'MTs_step':MTs_step,\n",
    "            'STs_start':STs_start,'STs_stop':STs_stop,'STs_step':STs_step}\n",
    "\n",
    "MTs = np.arange(MTs_start,MTs_stop,MTs_step)\n",
    "STs = np.arange(STs_start,STs_stop,STs_step)\n",
    "\n",
    "mTa = 3\n",
    "k = 10000\n",
    "n0 = 1000\n",
    "tg = 4\n",
    "\n",
    "EXP_KEY = np.arange(len(STa)).tolist()\n",
    "for i in range(len(EXP_KEY)):\n",
    "    EXP_KEY[i] = '{:3d}'.format(EXP_KEY[i]+300)\n",
    "# for i in range(len(STa)):\n",
    "EXP_KEY"
   ]
  },
  {
   "cell_type": "markdown",
   "metadata": {},
   "source": [
    "VERIFY THAT EXP_KEY IS CORRECT. THEN RUN!"
   ]
  },
  {
   "cell_type": "code",
   "execution_count": null,
   "metadata": {},
   "outputs": [],
   "source": [
    "for i in range(len(EXP_KEY)):\n",
    "    sTa = STa[i]\n",
    "    \n",
    "    kwargs = {'mTa':mTa, 'sTa':sTa, 'k':k, 'n0':n0, 'tg':tg}\n",
    "    \n",
    "    scale_workers = 50 #Set! I tried 100 and it worked\n",
    "    if scale_workers > 0:\n",
    "        cluster.scale(scale_workers)\n",
    "    futures = []\n",
    "    for sTs in STs:\n",
    "        def PAR_many_growth_cycles_stochTa_short(mTs):\n",
    "            return many_growth_cycles_stochTa_short(mTs, sTs, **kwargs)\n",
    "        fut = client.map(PAR_many_growth_cycles_stochTa_short, MTs)\n",
    "        futures.append(fut) \n",
    "    all_futures = [fu for sublist in futures for fu in sublist]\n",
    "    dask.distributed.progress(all_futures)\n",
    "    res = np.array(client.gather(futures))\n",
    "    exp_key = EXP_KEY[i] # MODIFY SO YOU DON'T OVERWRITE!!!!!\n",
    "    save_experiment(exp_key, res, kwargs, kwargs_s)"
   ]
  },
  {
   "cell_type": "markdown",
   "metadata": {},
   "source": [
    "### 2019/03/31\n",
    "\n",
    "For fixed mTa and sTa\n",
    "I need to screen mainly across MTs and STs. (Then test for several values of sTa).\n",
    "The number of simulations $k$ needed for a certain value of sTa will grow as sTa. It will be huge if I want to get a good estimate of the means (TODO estimate this).\n",
    "In each simulation, I want to store the statistics for all N_f, N_ngrow, N_surv (maybe the total for one, but it will be a lot of data if I do it for all simulations).\n",
    "I want to check different values of t_g too, but maybe just for some of them.\n",
    "Maybe: Test different n0, increasing n0 is also a way to reduce the noise in N_f. However, simulations will take longer to run."
   ]
  },
  {
   "cell_type": "code",
   "execution_count": null,
   "metadata": {},
   "outputs": [],
   "source": []
  }
 ],
 "metadata": {
  "kernelspec": {
   "display_name": "Python 3",
   "language": "python",
   "name": "python3"
  },
  "language_info": {
   "codemirror_mode": {
    "name": "ipython",
    "version": 3
   },
   "file_extension": ".py",
   "mimetype": "text/x-python",
   "name": "python",
   "nbconvert_exporter": "python",
   "pygments_lexer": "ipython3",
   "version": "3.7.1"
  }
 },
 "nbformat": 4,
 "nbformat_minor": 2
}
